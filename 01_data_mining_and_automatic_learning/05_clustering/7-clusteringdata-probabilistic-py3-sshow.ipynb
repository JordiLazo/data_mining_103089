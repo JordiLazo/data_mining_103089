{
 "cells": [
  {
   "cell_type": "markdown",
   "metadata": {
    "slideshow": {
     "slide_type": "slide"
    }
   },
   "source": [
    "<center>\n",
    "    <span style=\"color:blue; font-family:Georgia;  font-size:2em;\">\n",
    "        <h1>Clustering data - Probabilistic Algorithms</h1></span>\n",
    " </center>\n",
    "        <p> </p>\n",
    "        <p> </p>\n",
    "        <center><span style=\"color:blue; font-family:Georgia;  font-size:1em;\">\n",
    "        Ramon Béjar Torres</span></center>\n",
    "        <canvas id=\"myCanvas\" width=\"200\" height=\"100\" style=\"border:0px solid\"></canvas>\n",
    "        <center>Data mining - Master on Computer Science</center>\n",
    "        <center><img src=\"M-UdL2.png\"  width=\"200\" alt=\"UdL Logo\"></center>\n"
   ]
  },
  {
   "cell_type": "code",
   "execution_count": 1,
   "metadata": {
    "slideshow": {
     "slide_type": "skip"
    }
   },
   "outputs": [
    {
     "name": "stderr",
     "output_type": "stream",
     "text": [
      "Setting default log level to \"WARN\".\n",
      "To adjust logging level use sc.setLogLevel(newLevel). For SparkR, use setLogLevel(newLevel).\n",
      "23/10/17 12:34:53 WARN NativeCodeLoader: Unable to load native-hadoop library for your platform... using builtin-java classes where applicable\n"
     ]
    },
    {
     "name": "stdout",
     "output_type": "stream",
     "text": [
      "/etc/spark-3.5.0-bin-hadoop3 <SparkContext master=local[*] appName=pyspark-shell>\n"
     ]
    }
   ],
   "source": [
    "#\n",
    "# Our preliminary set-up code\n",
    "#\n",
    "\n",
    "import pyspark\n",
    "import os\n",
    "import math\n",
    "import random\n",
    "import sys\n",
    "\n",
    "%matplotlib inline\n",
    "import matplotlib\n",
    "import numpy as np\n",
    "import matplotlib.pyplot as plt\n",
    "\n",
    "\n",
    "spark_home = os.environ.get('SPARK_HOME', None)\n",
    "sc = pyspark.SparkContext('local[*]')\n",
    "\n",
    "print (spark_home, sc)"
   ]
  },
  {
   "cell_type": "code",
   "execution_count": 2,
   "metadata": {
    "slideshow": {
     "slide_type": "skip"
    }
   },
   "outputs": [],
   "source": [
    "#\n",
    "#  Coutry information about birth rate (2nd col) and death rate (3th col):\n",
    "#\n",
    "#  The complete countries data set can be found at: data/countries_data.csv\n",
    "#\n",
    "countriesdata = [ [ 'Afghanistan', 38.6, 13.9 ], \\\n",
    "                  [ 'Armenia',  13.6  ,  9.3 ], \\\n",
    "                  [ 'India',  19.6  ,  7.3 ], \\\n",
    "                  [ 'Iran', 18  ,  5.9 ], \\\n",
    "                  [ 'Iraq', 31.5  ,  3.8 ], \\\n",
    "                  [ 'Yemen', 30  ,  6.3 ], \\\n",
    "                  [ 'Israel', 18.5  ,  5.2 ], \\\n",
    "                  [ 'Italy',  8.7  ,  10.2  ], \\\n",
    "                  [ 'Germany'  ,  8.5  ,  11.4 ], \\\n",
    "                  [  'Denmark'  ,  10.3  ,  10.3    ], \\\n",
    "                  [  'France'  ,  12.4  ,  9.2    ], \\\n",
    "                  [  'Spain'  ,  9.6  ,  9     ], \\\n",
    "                  [ 'Austria'  ,  9.4  ,  9.4  ], \\\n",
    "                  [ 'Switzerland'  ,  10.5  ,  8.1 ], \\\n",
    "                  [  'Ecuador'  ,  18.5  ,  5.1 ], \\\n",
    "                  [  'Peru'  ,  18.3  ,  6 ], \\\n",
    "                  [  'Bolivia'  ,  22.8  ,  6.5 ], \\\n",
    "                  [  'Brazil'  ,  14.5  ,  6.6, ], \\\n",
    "                  [ 'Argentina'  ,  16.6  ,  7.3 ], \\\n",
    "                  [  'Chile'  ,  13.8  ,  6    ], \\\n",
    "                  [  'Colombia'  ,  16.5  ,  5.4 ] ]\n",
    "                  "
   ]
  },
  {
   "cell_type": "code",
   "execution_count": 3,
   "metadata": {
    "slideshow": {
     "slide_type": "skip"
    }
   },
   "outputs": [
    {
     "data": {
      "text/plain": [
       "PythonRDD[1] at RDD at PythonRDD.scala:53"
      ]
     },
     "execution_count": 3,
     "metadata": {},
     "output_type": "execute_result"
    }
   ],
   "source": [
    "countriesRDD = sc.parallelize( countriesdata ).map( lambda p : np.array(p[1:]) )\n",
    "countriesRDD.persist()"
   ]
  },
  {
   "cell_type": "code",
   "execution_count": 4,
   "metadata": {
    "slideshow": {
     "slide_type": "skip"
    }
   },
   "outputs": [],
   "source": [
    "# Example data\n",
    "#\n",
    "# We have 10 users, and 10 movies: STW1, STW2, STW3, STW4, STW5, STW6\n",
    "#                                  T1, T2, T3 and BaT\n",
    "# Each entry i,j is the rating given by the user in the range [-5.0,5.0]\n",
    "# We can observe that we have 4 clear Star Wars fans (that they also like a \n",
    "# little bit Terminator movies)\n",
    "# We also have four clear Terminator fans (that they also like a little STWs movies)\n",
    "# Finally, we have two clear Breakfast at tiffannies fans (BaT), that they do not\n",
    "# like too much science-fiction movies\n",
    "\n",
    "usersandmovies = [ [3,3,3,5,5,4, 3,3,-1, -1], \\\n",
    "                   [3,3,3,5,5,4, 4,2,0, -1], \\\n",
    "                   [3,3,4,5,5,4, 4,4,1, 0], \\\n",
    "                   [4,3,3,4,5,4, 3,3,1, -1], \\\n",
    "                   [1,1,1,0,1,1, 5,4,2, -1], \\\n",
    "                   [1,2,1,0,1,1, 4,4,2, -1], \\\n",
    "                   [1,2,2,1,1,1, 4,4,2, -1], \\\n",
    "                   [1,2,2,1,1,0, 5,4,3, -1], \\\n",
    "                   [-2,-3,-2,0,-2,-1, 0,0,-1,4], \\\n",
    "                   [-2,-3,-2,0,-2,-1, 0,0,-1,4]   ]\n"
   ]
  },
  {
   "cell_type": "code",
   "execution_count": 5,
   "metadata": {
    "slideshow": {
     "slide_type": "skip"
    }
   },
   "outputs": [
    {
     "data": {
      "text/plain": [
       "PythonRDD[3] at RDD at PythonRDD.scala:53"
      ]
     },
     "execution_count": 5,
     "metadata": {},
     "output_type": "execute_result"
    }
   ],
   "source": [
    "usersandmoviesRDD = sc.parallelize( usersandmovies ).map( lambda p : np.array(p) )\n",
    "usersandmoviesRDD.persist()"
   ]
  },
  {
   "cell_type": "markdown",
   "metadata": {
    "slideshow": {
     "slide_type": "slide"
    }
   },
   "source": [
    "## Probabilistic (soft) clustering with Expectation Maximization\n",
    "\n",
    "We are now going to tackle the problem of clustering data as assigning clusters to points following a probabilistic model. In this case, we assume that there is a probabilistic generative model with two components:\n",
    "1. There is a probability distribution among the $k$ different clusters. This probability distribution dictates which cluster generates each point obtained from the source that generated our data set.\n",
    "2. Once a cluster $i$ has been selected, the value for each dimension of the data point comes from a particular Multivariate gaussian distribution with particular mean ($d$-dimensional) vector $\\mu_i$ and covariance ($d \\times d$) matrix $\\Sigma_i$."
   ]
  },
  {
   "cell_type": "markdown",
   "metadata": {
    "slideshow": {
     "slide_type": "subslide"
    }
   },
   "source": [
    "This generation model is called a **k-Gaussian mixture model**. So, in this model we have two different sets of parameters:\n",
    "1. the probabilities that define the finite probability distribution among the $k$ clusters ($P(C=i)$). It defines the probability that the cluster selected to generate a sample point $ \\overline{x} $ is the cluster $i$.\n",
    "2. the $\\mu_i$ and $\\Sigma_i$ parameters of the Multivariate gaussian distributions associated with the clusters, and that define the probabilities $P( \\overline{x} | C=i ) $\n"
   ]
  },
  {
   "cell_type": "markdown",
   "metadata": {
    "slideshow": {
     "slide_type": "subslide"
    }
   },
   "source": [
    "The conditional probability theorem tell us that the probability that a certain data point $\\overline{x}$ is obtained in our data set can be expresed as:\n",
    "\n",
    "$$ P(\\overline{x} ) = \\sum_i P( \\overline{x} , C=i ) = \\sum_i  P( \\overline{x} | C=i ) P(C=i) $$\n"
   ]
  },
  {
   "cell_type": "markdown",
   "metadata": {
    "slideshow": {
     "slide_type": "fragment"
    }
   },
   "source": [
    "where:\n",
    "- $ P(C=i) $ is the probability that the cluster picked to generate a sample data was $i$\n",
    "- $ P( \\overline{x} | C=i ) $ is the probability to obtain $\\overline{x}$ if we assume that the cluster i (multivariate gaussian distribution with parameters $\\mu_i$ and  $\\Sigma_i$) was the one picked to generate $\\overline{x}$. "
   ]
  },
  {
   "cell_type": "markdown",
   "metadata": {
    "slideshow": {
     "slide_type": "subslide"
    }
   },
   "source": [
    "However, observe that in our clustering problem we do not know neither the cluster probabilities ($P(C=i)$) nor the gaussian parameters $\\mu_i$ and  $\\Sigma_i$ that allow us to compute $  P( \\overline{x} | C=i ) $. So, the question is:\n",
    "\n",
    "> Can we learn estimates of these $P(C=i)$ and  $\\mu_i,\\Sigma_i$ parameters from our data set ?\n",
    "\n",
    "Observe that in our data set we do not have any attributes that indicate which clusters generated each data point (unsupervised learning problem). So even if we assume a model where the clusters are indicated by a certain random variable, that variable **is hidden** in our data (we cannot directly observe its value in our data points). "
   ]
  },
  {
   "cell_type": "markdown",
   "metadata": {
    "slideshow": {
     "slide_type": "subslide"
    }
   },
   "source": [
    "How can we discover the most probable cluster for each point ($ P(C=i| \\overline{x} )  $)?\n",
    "\n",
    "1. If we knew the  $\\mu_i,\\Sigma_i$ and $P(C=i)$ parameters, we could learn the **E**xpected values for the cluster indicator variables $ P(C=i| \\overline{x} )  $.\n",
    "2. If we knew the $ P(C=i| \\overline{x} )  $ cluster indicator variable values, we could learn the **M**ost likely values for the parameters  $\\mu_i,\\Sigma_i$ and $P(C=i)$ (the values for them that maximize the probabilities for the observed values in our data points).\n",
    "\n",
    "So, how can we break this deadlock situation ?\n"
   ]
  },
  {
   "cell_type": "markdown",
   "metadata": {
    "slideshow": {
     "slide_type": "slide"
    }
   },
   "source": [
    "### The EM algorithm for learning a k-Gaussian mixture model\n",
    "\n",
    "Given the mutual dependence between the two sets of parameters we want to learn, the approach to learn a good estimation of them is to use an iterative algorithm that although it may not always learn the best possible model, in many cases learns a good enough model (one that predicts with good accuracy the probabilities of the observed data points).\n",
    "\n",
    "This algorithm is the Expectation Maximization algorithm for a k-Gaussian mixture model. "
   ]
  },
  {
   "cell_type": "markdown",
   "metadata": {
    "slideshow": {
     "slide_type": "subslide"
    }
   },
   "source": [
    "As we are going to see, this algorithm actually behaves like a probabilistic version of the previous k-means algorithm, where instead of assigning an unique cluster to each point, we define a probability distribution over cluster selection and  $\\mu_i,\\Sigma_i$  parameters for each cluster that change in every iteration until no further changes to the parameters can give a better fit to the probabilites observed.\n",
    "\n",
    "But with this  k-Gaussian mixture model, a point is not crisply assigned to a cluster, although the algorithm computes the probability that a particular cluster generated one of our data points. "
   ]
  },
  {
   "cell_type": "markdown",
   "metadata": {
    "slideshow": {
     "slide_type": "subslide"
    }
   },
   "source": [
    "The EM algorithm for  learning a k-Gaussian mixture model is the following one:\n",
    "\n",
    "Initially, we generate random/pseudo-random values (or with some other method) for the parameters $ P(C=i) $ and $\\mu_i,\\Sigma_i$ .\n",
    "\n",
    "Then, we change the parameters iteratively **until they converge** repeating the two following steps:  \n"
   ]
  },
  {
   "cell_type": "markdown",
   "metadata": {
    "slideshow": {
     "slide_type": "subslide"
    }
   },
   "source": [
    "1) In the E-step, we compute the expected values for the hidden indicator random variables $ P(C=i| \\overline{x} )  $. By bayes conditional probability rule these probabilities can be computed using our initial equation and current model parameters as:\n",
    "$$ P(C=i| \\overline{x} ) = \\frac{   P(C=i) P( \\overline{x} | C=i ) }{P(\\overline{x})} =\n",
    "\\frac{   P(C=i) P( \\overline{x} | C=i ) }{\\sum_j P(C=j) P( \\overline{x} | C=j ) } $$  \n",
    "Observe that $P(C=i)$ and $ P( \\overline{x} | C=i ) $ are computed with our current model parameters, as $ P( \\overline{x} | C=i ) $ is computed with the probability density function of a multivariate normal distribution with parameters  $\\mu_i,\\Sigma_i$.\n",
    "\n",
    "Check:\n",
    "https://en.wikipedia.org/wiki/Multivariate_normal_distribution#Density_function"
   ]
  },
  {
   "cell_type": "markdown",
   "metadata": {
    "slideshow": {
     "slide_type": "fragment"
    }
   },
   "source": [
    "2) In the M-step, we compute new parameter values for  $  P(C=i) $ and $\\mu_i,\\Sigma_i$ that maximize the likelihood of our data points, given the expected values for the hidden variables  computed in the previous step:\n",
    "$$ \\mu_i = \\frac{1}{p_i} \\sum_{\\overline{x}} \\overline{x}   P(C=i| \\overline{x} )  $$ \n",
    "$$ \\Sigma_i = \\frac{1}{p_i} \\sum_{\\overline{x}}\n",
    "  P(C=i| \\overline{x} ) (\\overline{x}-\\mu_i)(\\overline{x}-\\mu_i)^T $$  \n",
    "$$ P(C=i) = p_i / N  $$ \n",
    "\n",
    "where $p_i = \\sum_{\\overline{x}} P(C=i| \\overline{x} )$  and $N$ is the number of data points in the data set.\n"
   ]
  },
  {
   "cell_type": "markdown",
   "metadata": {
    "slideshow": {
     "slide_type": "subslide"
    }
   },
   "source": [
    "###  k-Gaussian Mixture with EM algorithm vs K-means\n",
    " \n",
    "E-step:\n",
    "\n",
    "[//]: # \"In k-means, in this step we assign each point to the closest cluster center. Here, we compute the probability of belonging to a cluster, and so we can computed the expected cluster for each point.\"\n",
    "\n",
    " \n",
    " $$\n",
    " \\begin{matrix}\n",
    "             & given:             & \\textrm{find for each point } \\overline{x}:   \\\\ \\hline\n",
    "   EM        & P(C=i)             &   P(C=i| \\overline{x}) \\\\\n",
    "             &  \\mu_i,\\Sigma_i   &             \\\\ \\hline\n",
    "  k-means    &   \\textrm{cluster centers i} & \\textrm{Closest center for} \\ \\overline{x} \\\\ \\hline\n",
    " \\end{matrix}\n",
    " $$"
   ]
  },
  {
   "cell_type": "markdown",
   "metadata": {
    "slideshow": {
     "slide_type": "fragment"
    }
   },
   "source": [
    "M-step:\n",
    "\n",
    "[//]: # \"Compare this with k-means: in k-means, in the second step we combined all the points of a same cluster i to compute the new centers of the clusters. Here, all the expressions $ P(C=i| \\overline{x})$ are combined to compute new cluster parameters (the ones that are the most probable to have these probabilities)\"\n",
    "\n",
    "$$\n",
    " \\begin{matrix}\n",
    "             & given:             & \\textrm{find best (MLE) for cluster i}:   \\\\ \\hline\n",
    "   EM        & P(C=i| \\overline{x})  &  P(C=i) \\\\\n",
    "             &                       &      \\mu_i,\\Sigma_i         \\\\ \\hline\n",
    "  k-means    & \\textrm{Cluster assigned to} \\ \\overline{x}   & \\textrm{cluster center for i} \\\\ \\hline\n",
    " \\end{matrix}\n",
    " $$"
   ]
  },
  {
   "cell_type": "markdown",
   "metadata": {
    "slideshow": {
     "slide_type": "slide"
    }
   },
   "source": [
    "###  Parallel implementation in the Map-Reduce framework\n",
    "\n",
    "The implementation in a Map-Reduce framework of this algorithm follows a similar scheme to the one described for the k-means algorithm, as both algorithms perform a similar work inside of the two steps they execute in every iteration:\n",
    "\n",
    "1. In the E-step, for each point $\\overline{x}$ we have to compute the probabilites $ P(C=i| \\overline{x} )  $ associated with the hidden variable. This computation is local to each data point (for each point $\\overline{x}$  we compute its set of k $ P(C=i| \\overline{x} )  $ values using only the current parameters of the model. So, this step is totally independent for each data point, and thus it can be implemented as a pure Map operation.\n",
    "\n",
    "$$ map \\ ( \\overline{x},\\mu_i,\\Sigma_i) \\rightarrow  (\\overline{x},i,P(C=i| \\overline{x} )) $$"
   ]
  },
  {
   "cell_type": "markdown",
   "metadata": {
    "slideshow": {
     "slide_type": "subslide"
    }
   },
   "source": [
    "2. In the M-step, for each cluster $i$ we compute new parameters  $  P(C=i) $ and $\\mu_i,\\Sigma_i$ collecting the values $ P(C=i| \\overline{x} )  $ computed for all the points $ \\overline{x}$:\n",
    " 1. First, we can compute $\\mu_i$ using a Map-Reduce operation (with all the $  \\overline{x} P(C=i| \\overline{x} )  $ values)\n",
    "$$ A1: map \\ (   (\\overline{x},i,P(C=i| \\overline{x}))  ) \\rightarrow  ( i, \\overline{x}   P(C=i| \\overline{x}) ) $$\n",
    "$$ A2: \\textrm{Then, for any i reduce all these vectors to get their average  } \\mu_i $$\n",
    " 2. Then, $ \\Sigma_i$ is  computed with a second Map-Reduce operation that computes $d \\times d$ matrices:\n",
    " \n",
    " $$ B1: map  (\\overline{x},i,P(C=i| \\overline{x}),\\mu_i) \\rightarrow  P(C=i| \\overline{x})  ((\\overline{x}-\\mu_i)(\\overline{x}-\\mu_i)^T)  $$\n",
    " $$ B2: \\textrm{ reduce all such matrices with the same $i$ value  adding them to finally compute} \\ \\Sigma_i$$ "
   ]
  },
  {
   "cell_type": "markdown",
   "metadata": {
    "slideshow": {
     "slide_type": "subslide"
    }
   },
   "source": [
    "Then, once the algorithm converges (so no better parameters can be found), we end up with a model that although is locally good, it may not necessarilly be the best global model. That is, better models could be found if we were changing at the same time both the hidden variables distributions and the clusters parameters. But there is no good method to perform such global search through the space of all parameter combinations.\n",
    "\n",
    "With the resulting model, observe that we can use the final parameters $  P(C=i| \\overline{x} )  $ to make a soft prediction of the cluster that generated each data point $\\overline{x}$."
   ]
  },
  {
   "cell_type": "markdown",
   "metadata": {
    "slideshow": {
     "slide_type": "subslide"
    }
   },
   "source": [
    "For a more detailed discussion of the implementation of the distributed version of this algorithm in different distributed frameworks, read the paper:\n",
    "> H. Cui, J. Wei and W Dai. *Parallel Implementation of Expectation-Maximization for Fast Convergence*. URL: https://users.ece.cmu.edu/~hengganc/archive/report/final.pdf"
   ]
  },
  {
   "cell_type": "markdown",
   "metadata": {
    "slideshow": {
     "slide_type": "subslide"
    }
   },
   "source": [
    "It is worth noticing that EM based algorithms are also used for predicting values of other families of random variables in problems where we assume that our data has been generated (or can be modelled) with certain random variables where some of their parameters are unknown, but we want to learn the most probable parameters. As an another example of the use of EM based algorithms for big data applications, check for example the following paper:\n",
    "\n",
    "> Timothy Hunter, Teodor Mihai Moldovan, Matei Zaharia, Samy Merzgui, Justin Ma, Michael J. Franklin, Pieter Abbeel, Alexandre M. Bayen: Scaling the mobile millennium system in the cloud. SoCC 2011: 28\n",
    "URL: https://cs.stanford.edu/~matei/papers/2011/socc_mobile_millennium.pdf"
   ]
  },
  {
   "cell_type": "markdown",
   "metadata": {
    "slideshow": {
     "slide_type": "slide"
    }
   },
   "source": [
    "## Probabilistic clustering with the countries data\n",
    "\n",
    "We are going to test the learning of a k-Gaussian mixture model with an implementation of the EM algorithm available in spark. Let's try it first with our data set of countries."
   ]
  },
  {
   "cell_type": "code",
   "execution_count": 6,
   "metadata": {},
   "outputs": [],
   "source": [
    "from pyspark.mllib.clustering import GaussianMixture"
   ]
  },
  {
   "cell_type": "code",
   "execution_count": 8,
   "metadata": {
    "scrolled": true
   },
   "outputs": [
    {
     "name": "stdout",
     "output_type": "stream",
     "text": [
      "Afghanistan  soft:  array('d', [2.7545639667616822e-24, 2.7545639667616822e-24, 1.0])  most probable:  2\n",
      "Armenia  soft:  array('d', [0.9999999999999315, 5.0397102816105166e-14, 1.8157840491497603e-14])  most probable:  0\n",
      "India  soft:  array('d', [0.9999989546765503, 1.0453234333792808e-06, 1.6386494512301765e-14])  most probable:  0\n",
      "Iran  soft:  array('d', [0.03438424899823895, 0.9656157510017555, 5.541900860534301e-15])  most probable:  1\n",
      "Iraq  soft:  array('d', [0.9999999999991764, 6.331789087508562e-13, 1.9033175763763893e-13])  most probable:  0\n",
      "Yemen  soft:  array('d', [0.9999999999993961, 3.019485371040745e-13, 3.019485360634617e-13])  most probable:  0\n",
      "Israel  soft:  array('d', [0.005859529546604271, 0.9941404704533902, 5.530888468582376e-15])  most probable:  1\n",
      "Italy  soft:  array('d', [0.9999999999999539, 2.3064472911107753e-14, 2.306124217763587e-14])  most probable:  0\n",
      "Germany  soft:  array('d', [0.9999999999998067, 9.664184950944759e-14, 9.664184950944759e-14])  most probable:  0\n",
      "Denmark  soft:  array('d', [0.9999999999999446, 2.7676847822995177e-14, 2.7676821208091573e-14])  most probable:  0\n",
      "France  soft:  array('d', [0.9999999999968939, 3.0900445560936076e-12, 1.5959175108270477e-14])  most probable:  0\n",
      "Spain  soft:  array('d', [0.9999999970915062, 2.9084662953829297e-09, 2.7603280108746874e-14])  most probable:  0\n",
      "Austria  soft:  array('d', [0.9999999999943098, 5.668529249214336e-12, 2.1782085506183798e-14])  most probable:  0\n",
      "Switzerland  soft:  array('d', [0.9997827633614756, 0.00021723663845493418, 6.94471317834342e-14])  most probable:  0\n",
      "Ecuador  soft:  array('d', [0.0051086517869946375, 0.9948913482129985, 6.823143618652409e-15])  most probable:  1\n",
      "Peru  soft:  array('d', [0.08649193946753118, 0.9135080605324596, 9.291498621572232e-15])  most probable:  1\n",
      "Bolivia  soft:  array('d', [0.9999993303994845, 6.696004932144857e-07, 2.2343390300784312e-14])  most probable:  0\n",
      "Brazil  soft:  array('d', [0.06351675335538884, 0.9364832466445976, 1.3451673853481619e-14])  most probable:  1\n",
      "Argentina  soft:  array('d', [0.9976528194592836, 0.0023471805406947406, 2.1711576603335402e-14])  most probable:  0\n",
      "Chile  soft:  array('d', [0.005742093233501876, 0.9942579067664831, 1.512799179548531e-14])  most probable:  1\n",
      "Colombia  soft:  array('d', [0.002297835457583732, 0.997702164542411, 5.2909952241449295e-15])  most probable:  1\n",
      "\n",
      "\n"
     ]
    }
   ],
   "source": [
    "gmc = GaussianMixture.train( countriesRDD , 3, maxIterations=20)\n",
    "bestcclustersRDD = gmc.predictSoft(countriesRDD)\n",
    "\n",
    "for i,countrypred in enumerate(bestcclustersRDD.collect()):\n",
    "    print ( countriesdata[i][0], \" soft: \",countrypred , \\\n",
    "    \" most probable: \", countrypred.index(max(countrypred)))\n",
    "\n",
    "print (\"\\n\")\n",
    "    "
   ]
  },
  {
   "cell_type": "code",
   "execution_count": 9,
   "metadata": {
    "slideshow": {
     "slide_type": "subslide"
    }
   },
   "outputs": [
    {
     "name": "stdout",
     "output_type": "stream",
     "text": [
      "weight =  0.6286105622195236 mu =  [15.67336351399736,8.28171374440101] sigma =  [[ 58.38643934 -13.6043662 ]\n",
      " [-13.6043662    3.8823829 ]]\n",
      "weight =  0.3237703901613853 mu =  [16.869497736211816,5.7322475596680835] sigma =  [[ 3.40662444 -0.58533768]\n",
      " [-0.58533768  0.24496517]]\n",
      "weight =  0.04761904761909115 mu =  [38.59999999998491,13.899999999993659] sigma =  [[3.33784556e-10 8.68567440e-11]\n",
      " [8.68567440e-11 4.90842922e-11]]\n"
     ]
    }
   ],
   "source": [
    "# output parameters of model\n",
    "#\n",
    "#  weights[i] = probability of selecting cluster i in k-Gaussian mixture model\n",
    "#  gmc.gaussians[i].mu = mean vector for i cluster\n",
    "#  gmc.gaussians[i].sigma.toArray() = covariance matrix for i cluster\n",
    "for i in range(3):\n",
    "    print (\"weight = \", gmc.weights[i], \"mu = \", gmc.gaussians[i].mu,\n",
    "        \"sigma = \", gmc.gaussians[i].sigma.toArray())"
   ]
  },
  {
   "cell_type": "markdown",
   "metadata": {
    "slideshow": {
     "slide_type": "skip"
    }
   },
   "source": [
    "###  Exercises\n",
    "\n",
    "Can you make a program that compares the set clusters predicted with both clustering algorithms (k-means and EM for k-Gaussian mixture) ? \n",
    "\n",
    "Consider clustering all the countries in the file countries_data.csv but using also the variables Population, life expectancy and GDP (this last one found in the file countries_GDP.csv)  "
   ]
  },
  {
   "cell_type": "markdown",
   "metadata": {
    "slideshow": {
     "slide_type": "slide"
    }
   },
   "source": [
    "## Probabilistic clustering with the user-movies data set\n",
    "\n",
    "Next, let's check the probabilistic model obtained with our users and movies data set"
   ]
  },
  {
   "cell_type": "code",
   "execution_count": 11,
   "metadata": {
    "slideshow": {
     "slide_type": "subslide"
    }
   },
   "outputs": [
    {
     "name": "stdout",
     "output_type": "stream",
     "text": [
      "array('d', [1.0151382902440824e-18, 1.0, 1.0151382902440824e-18])  most probable:  1\n",
      "array('d', [1.0151382902440787e-18, 1.0, 1.0151382902440787e-18])  most probable:  1\n",
      "array('d', [1.0151382902440805e-18, 1.0, 1.0151382902440805e-18])  most probable:  1\n",
      "array('d', [1.0151382902440824e-18, 1.0, 1.0151382902440824e-18])  most probable:  1\n",
      "array('d', [1.1417372009850315e-25, 1.1417372009850315e-25, 1.0])  most probable:  2\n",
      "array('d', [1.1417372009850274e-25, 1.1417372009850274e-25, 1.0])  most probable:  2\n",
      "array('d', [1.141737200985019e-25, 1.141737200985019e-25, 1.0])  most probable:  2\n",
      "array('d', [1.1417372009850274e-25, 1.1417372009850274e-25, 1.0])  most probable:  2\n",
      "array('d', [1.0, 9.003192198486969e-63, 9.003192198486969e-63])  most probable:  0\n",
      "array('d', [1.0, 9.003192198486969e-63, 9.003192198486969e-63])  most probable:  0\n",
      "\n",
      "\n"
     ]
    }
   ],
   "source": [
    "# Build the model (cluster the data) with expectation maximization\n",
    "# for our usersandmovies data set\n",
    "gmm = GaussianMixture.train( usersandmoviesRDD, 3, maxIterations=20)\n",
    "\n",
    "# Let's show the soft prediction for each data point\n",
    "bestclustersRDD = gmm.predictSoft(usersandmoviesRDD)\n",
    "for user in bestclustersRDD.collect():\n",
    "    print (user,\\\n",
    "    \" most probable: \", user.index(max(user)))\n",
    "\n",
    "print (\"\\n\")\n"
   ]
  },
  {
   "cell_type": "markdown",
   "metadata": {
    "collapsed": true,
    "slideshow": {
     "slide_type": "subslide"
    }
   },
   "source": [
    "As you can see, picking the most probable cluster for each data point we obtain **in many executions** the same user clusters we obtained with the most typical executions of k-means.\n",
    "\n",
    "However, observe that the probability distributions obtained over the three clusters give us more information, as they can be used to measure how similar may be two particular clusters, when considered as possible clusters for a data point."
   ]
  },
  {
   "cell_type": "markdown",
   "metadata": {
    "slideshow": {
     "slide_type": "subslide"
    }
   },
   "source": [
    "But, the information provided by a probabilistic model can be more useful in cases for users with less well defined profiles. Consider the following list of 50 users with randomly generated profiles with dimension=15:"
   ]
  },
  {
   "cell_type": "code",
   "execution_count": 68,
   "metadata": {
    "slideshow": {
     "slide_type": "skip"
    }
   },
   "outputs": [],
   "source": [
    "# The next list of user profiles has been generated randomly with\n",
    "# for u in range(50): random.choices( [-5,-4,-3,-2,-1,0,1,2,3,4,5], k = 15 )"
   ]
  },
  {
   "cell_type": "code",
   "execution_count": 69,
   "metadata": {
    "slideshow": {
     "slide_type": "fragment"
    }
   },
   "outputs": [],
   "source": [
    "usersandmovies2 = [ [-1, 1, -2, -5, -5, -1, -4, 5, -5, -3, 2, -1, -5, 2, 2], \\\n",
    "[3, 3, -4, 3, -5, 1, -3, 5, 5, 1, -2, -3, -4, -5, 1], \\\n",
    "[-2, 4, 0, -1, 1, 1, -1, -1, -3, 4, -2, 2, 0, -5, 0], \\\n",
    "[-3, 1, 2, -4, 5, 3, 4, 4, 3, 2, -5, 5, -1, 2, -4], \\\n",
    "[3, 5, -1, -2, -4, 4, 1, -5, -1, 3, 3, 4, 5, -3, 5], \\\n",
    "[-2, 3, 0, -3, 4, -3, -1, -1, -4, -3, 1, -4, -5, -1, -3], \\\n",
    "[-3, -2, 1, 1, 4, 1, -4, -5, -3, -3, -4, 5, 1, 1, -3], \\\n",
    "[3, -3, 4, -3, 2, 4, 5, -1, 0, -2, 1, 5, -5, 2, 0], \\\n",
    "[2, -1, 4, 5, -2, 4, -2, 5, 5, 3, 1, -5, 0, -4, -4], \\\n",
    "[3, -2, -4, 5, 0, -4, 5, -1, 4, -5, -3, 3, 1, 2, 5], \\\n",
    "[1, -1, -2, 0, -1, 4, 2, 2, 4, 3, -2, -5, 0, -5, -4], \\\n",
    "[-4, -2, -3, -3, -1, 0, 5, 2, 0, 0, 2, 4, -4, 1, 1], \\\n",
    "[4, 4, -1, 1, -5, 5, -4, 0, -3, 2, 0, -5, 0, -4, -3], \\\n",
    "[4, -2, 0, -4, 0, 3, 1, 5, 4, -5, 3, -5, -3, 3, -1], \\\n",
    "[-4, 2, -4, 4, 0, 2, -5, 4, 0, 5, -4, 1, -4, -5, 2], \\\n",
    "[3, -1, 4, -5, 4, 0, -2, 1, 4, 0, 1, 0, -1, -5, 3], \\\n",
    "[5, 1, -5, 4, -2, 5, -1, 4, 5, 0, 0, 2, -4, 5, -3], \\\n",
    "[-2, 4, -4, -1, 3, -3, -2, 1, 5, -4, -1, 0, 2, -3, 3], \\\n",
    "[1, 0, 3, 0, -3, 1, 0, 3, 4, -3, -4, 3, 4, 3, -3], \\\n",
    "[-2, 4, 4, -3, 2, -1, -3, -1, -1, -4, 0, 0, -3, -4, 5], \\\n",
    "[0, 3, 1, 1, -2, 0, -5, 0, -5, 4, -4, -1, 1, 0, -4], \\\n",
    "[1, -5, 2, -2, -4, -2, 3, -4, 4, 1, 0, 5, -5, -1, -4], \\\n",
    "[-2, 0, 1, 1, -3, 4, -3, -3, 2, 4, -5, -3, 2, -4, -2], \\\n",
    "[5, 4, 2, 5, 0, -3, 1, 3, -3, 0, 0, -4, 2, -4, 5], \\\n",
    "[2, 0, 2, 4, 1, -3, 4, -4, 4, -4, 1, 2, -3, -2, -2], \\\n",
    "[-2, -3, 0, 5, -1, 3, 1, -1, 3, 5, -2, 0, 3, -2, -1], \\\n",
    "[3, -1, 2, -2, 3, 1, 3, -2, 5, -2, -3, -4, 1, 2, -3], \\\n",
    "[-1, 4, 1, 1, 5, 1, 1, -4, -1, -3, 5, -5, -3, 1, -4], \\\n",
    "[5, 2, 1, 0, 5, 2, 0, 5, 0, -5, 5, -3, -5, -5, -3], \\\n",
    "[-3, -3, -1, 3, 0, 2, 2, 2, 3, 3, 3, 1, 3, 3, 0], \\\n",
    "[-2, 2, -1, 3, -3, 1, -3, 2, -1, 1, 1, 4, 5, -4, 0], \\\n",
    "[-3, 3, 5, 1, -4, 2, 0, -5, 2, -4, 2, -1, -3, 5, 5], \\\n",
    "[3, 5, -4, -1, 1, -3, 1, -3, -2, -4, -5, 2, -2, 2, 0], \\\n",
    "[-1, 3, -2, -2, -3, 4, 1, 2, 1, 4, 5, -2, 2, 2, -5], \\\n",
    "[-5, 3, 5, 0, 3, 5, 1, -1, 1, 2, 4, -2, 2, -3, 1], \\\n",
    "[3, 4, 0, -5, 1, 4, 5, 3, 1, 5, 5, 3, 1, 2, 3], \\\n",
    "[-1, 1, 3, 2, -2, 5, 3, 0, 1, 1, 4, 1, -4, -3, 2], \\\n",
    "[1, 2, -4, -4, -3, 1, 2, -5, -5, -2, -1, 5, -4, 4, 0], \\\n",
    "[-2, -3, 0, -2, 0, -5, -3, 3, 0, -3, 0, 1, 3, 2, 2], \\\n",
    "[-3, 5, 5, -4, 1, -3, -2, 0, 0, -1, -5, -5, 0, 2, 1], \\\n",
    "[-3, 2, 3, 5, -1, -3, 0, 2, -5, 2, 0, 1, -3, -5, 1], \\\n",
    "[1, 5, 3, -1, -3, 0, 0, -2, -2, -4, 5, 2, -2, -5, 0], \\\n",
    "[-5, -1, -1, -4, -3, -2, -2, 0, 4, 3, 5, 0, -5, -5, -5], \\\n",
    "[-2, -1, -5, -4, -4, 3, 3, 4, 2, 2, 2, -3, -3, -2, 0], \\\n",
    "[1, -5, 2, -3, 5, 1, 0, 4, 5, -3, 2, -1, 4, -5, -1], \\\n",
    "[0, 5, -4, 0, -4, 2, -5, 5, 5, -3, -1, 4, 2, -5, 3], \\\n",
    "[4, -2, 5, -4, -1, 2, -4, 0, -3, -5, 2, 3, -4, -2, 2], \\\n",
    "[4, 4, -5, 2, -3, -2, 2, 3, -2, 2, 5, 2, -4, -5, -1], \\\n",
    "[3, -3, -1, 2, -5, 0, 2, -5, -3, 0, -1, 2, 1, 4, -4], \\\n",
    "[-2, -1, -1, 0, -3, 3, -4, 1, 1, 1, 0, -2, 2, 2, -4]\n",
    " ]"
   ]
  },
  {
   "cell_type": "code",
   "execution_count": 70,
   "metadata": {
    "slideshow": {
     "slide_type": "fragment"
    }
   },
   "outputs": [],
   "source": [
    "usersandmoviesRDD2 = sc.parallelize( usersandmovies2 ).map( lambda p : np.array(p) )"
   ]
  },
  {
   "cell_type": "code",
   "execution_count": 72,
   "metadata": {
    "slideshow": {
     "slide_type": "subslide"
    }
   },
   "outputs": [
    {
     "name": "stderr",
     "output_type": "stream",
     "text": [
      "\r",
      "[Stage 935:==================================================>    (11 + 1) / 12]\r",
      "\r",
      "                                                                                \r"
     ]
    },
    {
     "name": "stdout",
     "output_type": "stream",
     "text": [
      "array('d', [0.33144367103570727, 0.33076031615661666, 0.3377960128076761])  most probable:  2\n",
      "array('d', [0.07556688663806876, 0.8531239584194227, 0.07130915494250849])  most probable:  1\n",
      "array('d', [0.7161421501746261, 0.25434200277220864, 0.02951584705316511])  most probable:  0\n",
      "array('d', [0.3318287191885136, 0.33272613195402684, 0.33544514885745963])  most probable:  2\n",
      "array('d', [0.3334450282533566, 0.3356472494221684, 0.3309077223244751])  most probable:  1\n",
      "array('d', [0.9119028260092578, 0.04381524575452659, 0.044281928236215566])  most probable:  0\n",
      "array('d', [0.3319625307482515, 0.3376032951764797, 0.3304341740752689])  most probable:  1\n",
      "array('d', [0.06588820459220657, 0.06508391093574079, 0.8690278844720527])  most probable:  2\n",
      "array('d', [0.8892136064028925, 0.055405572314220164, 0.05538082128288733])  most probable:  0\n",
      "array('d', [0.33533637074333605, 0.3178366374963194, 0.34682699176034454])  most probable:  2\n",
      "\n",
      "\n"
     ]
    },
    {
     "name": "stderr",
     "output_type": "stream",
     "text": [
      "\r",
      "[Stage 1017:=========>                                            (2 + 10) / 12]\r",
      "\r",
      "                                                                                \r"
     ]
    }
   ],
   "source": [
    "gmm2 = GaussianMixture.train( usersandmoviesRDD2, 3, maxIterations=40)\n",
    "\n",
    "# Let's show the soft prediction for each data point\n",
    "bestclustersRDD2 = gmm2.predictSoft(usersandmoviesRDD2)\n",
    "usersandclusters = bestclustersRDD2.collect()\n",
    "for user in usersandclusters[:10]:\n",
    "    print (user,\\\n",
    "    \" most probable: \", user.index(max(user)))\n",
    "\n",
    "print (\"\\n\")\n"
   ]
  },
  {
   "cell_type": "markdown",
   "metadata": {
    "slideshow": {
     "slide_type": "fragment"
    }
   },
   "source": [
    "This time, we do not get such clear *winning clusters* for each user, as in many cases different clusters seem to be also good options for that user"
   ]
  }
 ],
 "metadata": {
  "celltoolbar": "Slideshow",
  "kernelspec": {
   "display_name": "Python 3 (ipykernel)",
   "language": "python",
   "name": "python3"
  },
  "language_info": {
   "codemirror_mode": {
    "name": "ipython",
    "version": 3
   },
   "file_extension": ".py",
   "mimetype": "text/x-python",
   "name": "python",
   "nbconvert_exporter": "python",
   "pygments_lexer": "ipython3",
   "version": "3.10.12"
  }
 },
 "nbformat": 4,
 "nbformat_minor": 1
}
