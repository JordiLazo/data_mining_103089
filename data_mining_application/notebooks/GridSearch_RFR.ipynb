{
 "cells": [
  {
   "cell_type": "code",
   "execution_count": 12,
   "id": "5ddaf91b-6bdd-4b17-bf88-d65e080e9de6",
   "metadata": {},
   "outputs": [
    {
     "name": "stdout",
     "output_type": "stream",
     "text": [
      "Requirement already satisfied: scikit-learn in c:\\users\\strix\\miniconda3\\envs\\myenv\\lib\\site-packages (1.3.2)\n",
      "Requirement already satisfied: scipy in c:\\users\\strix\\miniconda3\\envs\\myenv\\lib\\site-packages (1.10.1)\n",
      "Requirement already satisfied: matplotlib in c:\\users\\strix\\miniconda3\\envs\\myenv\\lib\\site-packages (3.7.4)\n",
      "Requirement already satisfied: numpy<2.0,>=1.17.3 in c:\\users\\strix\\miniconda3\\envs\\myenv\\lib\\site-packages (from scikit-learn) (1.24.3)\n",
      "Requirement already satisfied: joblib>=1.1.1 in c:\\users\\strix\\miniconda3\\envs\\myenv\\lib\\site-packages (from scikit-learn) (1.3.2)\n",
      "Requirement already satisfied: threadpoolctl>=2.0.0 in c:\\users\\strix\\miniconda3\\envs\\myenv\\lib\\site-packages (from scikit-learn) (3.2.0)\n",
      "Requirement already satisfied: contourpy>=1.0.1 in c:\\users\\strix\\miniconda3\\envs\\myenv\\lib\\site-packages (from matplotlib) (1.1.1)\n",
      "Requirement already satisfied: cycler>=0.10 in c:\\users\\strix\\miniconda3\\envs\\myenv\\lib\\site-packages (from matplotlib) (0.12.1)\n",
      "Requirement already satisfied: fonttools>=4.22.0 in c:\\users\\strix\\miniconda3\\envs\\myenv\\lib\\site-packages (from matplotlib) (4.47.0)\n",
      "Requirement already satisfied: kiwisolver>=1.0.1 in c:\\users\\strix\\miniconda3\\envs\\myenv\\lib\\site-packages (from matplotlib) (1.4.5)\n",
      "Requirement already satisfied: packaging>=20.0 in c:\\users\\strix\\miniconda3\\envs\\myenv\\lib\\site-packages (from matplotlib) (23.1)\n",
      "Requirement already satisfied: pillow>=6.2.0 in c:\\users\\strix\\miniconda3\\envs\\myenv\\lib\\site-packages (from matplotlib) (10.1.0)\n",
      "Requirement already satisfied: pyparsing>=2.3.1 in c:\\users\\strix\\miniconda3\\envs\\myenv\\lib\\site-packages (from matplotlib) (3.1.1)\n",
      "Requirement already satisfied: python-dateutil>=2.7 in c:\\users\\strix\\miniconda3\\envs\\myenv\\lib\\site-packages (from matplotlib) (2.8.2)\n",
      "Requirement already satisfied: importlib-resources>=3.2.0 in c:\\users\\strix\\miniconda3\\envs\\myenv\\lib\\site-packages (from matplotlib) (6.1.0)\n",
      "Requirement already satisfied: zipp>=3.1.0 in c:\\users\\strix\\miniconda3\\envs\\myenv\\lib\\site-packages (from importlib-resources>=3.2.0->matplotlib) (3.11.0)\n",
      "Requirement already satisfied: six>=1.5 in c:\\users\\strix\\miniconda3\\envs\\myenv\\lib\\site-packages (from python-dateutil>=2.7->matplotlib) (1.16.0)\n"
     ]
    }
   ],
   "source": [
    "!pip install -U scikit-learn scipy matplotlib"
   ]
  },
  {
   "cell_type": "code",
   "execution_count": 1,
   "id": "ca280979-0858-43fb-a931-caf4d30db8dc",
   "metadata": {},
   "outputs": [],
   "source": [
    "import pandas as pd\n",
    "json_file_path_business = 'yelp_academic_dataset_business_normalized.json'\n",
    "normalized = pd.read_json(json_file_path_business,lines=True)"
   ]
  },
  {
   "cell_type": "code",
   "execution_count": 2,
   "id": "051a880e-971c-4e71-9291-346890ef8841",
   "metadata": {},
   "outputs": [],
   "source": [
    "from sklearn.model_selection import GridSearchCV\n",
    "from sklearn.ensemble import RandomForestRegressor\n"
   ]
  },
  {
   "cell_type": "code",
   "execution_count": 3,
   "id": "c66616ec-5352-4a72-bef6-5eb423bc8c8a",
   "metadata": {},
   "outputs": [],
   "source": [
    "from sklearn.model_selection import train_test_split\n",
    "from sklearn import preprocessing\n",
    "train, test = train_test_split(normalized, random_state=123)\n",
    "X_train = train.drop([\"stars\"], axis=1)\n",
    "X_test = test.drop([\"stars\"], axis=1)\n",
    "y_train = train.stars\n",
    "y_test = test.stars"
   ]
  },
  {
   "cell_type": "code",
   "execution_count": 4,
   "id": "110e502e-802e-4db4-82ac-b2b5edb37728",
   "metadata": {},
   "outputs": [],
   "source": [
    "\"\"\"param_grid = {\n",
    "    'n_estimators': [100, 200, 300],  # Number of trees in the random forest\n",
    "    'max_features': ['log2', 'sqrt', None],  # Number of features to consider at every split\n",
    "    'max_depth' : [4,6,8],             # Maximum number of levels in tree\n",
    "    'criterion' :['squared_error', 'absolute_error', 'poisson']       # Function to measure the quality of a split\n",
    "}\"\"\"\n",
    "\n",
    "param_grid = {\n",
    "    'n_estimators': [100, 200,300],  # Number of trees in the random forest \n",
    "    'max_depth' : [4,6,8],             # Maximum number of levels in tree\n",
    "}"
   ]
  },
  {
   "cell_type": "code",
   "execution_count": 5,
   "id": "7f5f864b-cb06-4ce5-9f25-267d2f2202d2",
   "metadata": {},
   "outputs": [],
   "source": [
    "rf = RandomForestRegressor(random_state=42)\n",
    "grid_search = GridSearchCV(estimator = rf, param_grid = param_grid, cv = 5, error_score='raise', n_jobs=-1)"
   ]
  },
  {
   "cell_type": "code",
   "execution_count": 6,
   "id": "d964e514-b868-4348-9e81-2143e8fd6b37",
   "metadata": {},
   "outputs": [
    {
     "name": "stdout",
     "output_type": "stream",
     "text": [
      "{'max_depth': 8, 'n_estimators': 300}\n"
     ]
    }
   ],
   "source": [
    "grid_search.fit(X_train, y_train)\n",
    "print(grid_search.best_params_)"
   ]
  }
 ],
 "metadata": {
  "kernelspec": {
   "display_name": "Python 3 (ipykernel)",
   "language": "python",
   "name": "python3"
  },
  "language_info": {
   "codemirror_mode": {
    "name": "ipython",
    "version": 3
   },
   "file_extension": ".py",
   "mimetype": "text/x-python",
   "name": "python",
   "nbconvert_exporter": "python",
   "pygments_lexer": "ipython3",
   "version": "3.8.18"
  }
 },
 "nbformat": 4,
 "nbformat_minor": 5
}
