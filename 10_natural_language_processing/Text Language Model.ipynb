{
 "cells": [
  {
   "cell_type": "code",
   "execution_count": 1,
   "id": "976b0943",
   "metadata": {
    "ExecuteTime": {
     "end_time": "2023-12-10T14:02:48.621358Z",
     "start_time": "2023-12-10T14:02:48.001966Z"
    }
   },
   "outputs": [
    {
     "name": "stdout",
     "output_type": "stream",
     "text": [
      "Sun Dec 10 14:02:48 2023       \r\n",
      "+---------------------------------------------------------------------------------------+\r\n",
      "| NVIDIA-SMI 535.54.03              Driver Version: 535.54.03    CUDA Version: 12.2     |\r\n",
      "|-----------------------------------------+----------------------+----------------------+\r\n",
      "| GPU  Name                 Persistence-M | Bus-Id        Disp.A | Volatile Uncorr. ECC |\r\n",
      "| Fan  Temp   Perf          Pwr:Usage/Cap |         Memory-Usage | GPU-Util  Compute M. |\r\n",
      "|                                         |                      |               MIG M. |\r\n",
      "|=========================================+======================+======================|\r\n",
      "|   0  NVIDIA GeForce RTX 4080        Off | 00000000:01:00.0 Off |                  N/A |\r\n",
      "|  0%   33C    P8               5W / 320W |      1MiB / 16376MiB |      0%      Default |\r\n",
      "|                                         |                      |                  N/A |\r\n",
      "+-----------------------------------------+----------------------+----------------------+\r\n",
      "|   1  NVIDIA GeForce RTX 4080        Off | 00000000:03:00.0 Off |                  N/A |\r\n",
      "|  0%   36C    P8              10W / 320W |      1MiB / 16376MiB |      0%      Default |\r\n",
      "|                                         |                      |                  N/A |\r\n",
      "+-----------------------------------------+----------------------+----------------------+\r\n",
      "                                                                                         \r\n",
      "+---------------------------------------------------------------------------------------+\r\n",
      "| Processes:                                                                            |\r\n",
      "|  GPU   GI   CI        PID   Type   Process name                            GPU Memory |\r\n",
      "|        ID   ID                                                             Usage      |\r\n",
      "|=======================================================================================|\r\n",
      "|  No running processes found                                                           |\r\n",
      "+---------------------------------------------------------------------------------------+\r\n"
     ]
    }
   ],
   "source": [
    "!nvidia-smi"
   ]
  },
  {
   "cell_type": "markdown",
   "id": "9c2185cb",
   "metadata": {
    "ExecuteTime": {
     "end_time": "2023-12-10T14:01:07.509920Z",
     "start_time": "2023-12-10T14:01:07.508226Z"
    }
   },
   "source": [
    "## Import fastai Text library"
   ]
  },
  {
   "cell_type": "code",
   "execution_count": 2,
   "id": "a3214125",
   "metadata": {
    "ExecuteTime": {
     "end_time": "2023-12-10T14:02:51.173020Z",
     "start_time": "2023-12-10T14:02:49.687956Z"
    }
   },
   "outputs": [],
   "source": [
    "from fastai.text.all import *"
   ]
  },
  {
   "cell_type": "markdown",
   "id": "051a1ecf",
   "metadata": {},
   "source": [
    "## Dataset\n",
    "\n",
    "The dataset we are using is yelp50k, a dataset of 50000 comments on yelp (now comments on google maps reviews)."
   ]
  },
  {
   "cell_type": "code",
   "execution_count": 3,
   "id": "8e04bfb9",
   "metadata": {
    "ExecuteTime": {
     "end_time": "2023-12-10T14:02:55.125988Z",
     "start_time": "2023-12-10T14:02:55.123866Z"
    }
   },
   "outputs": [],
   "source": [
    "path = untar_data('http://codeandbeer.org/mydata/yelp50k_dataset.tgz')"
   ]
  },
  {
   "cell_type": "code",
   "execution_count": 4,
   "id": "c112db39",
   "metadata": {
    "ExecuteTime": {
     "end_time": "2023-12-10T14:02:55.876023Z",
     "start_time": "2023-12-10T14:02:55.872593Z"
    }
   },
   "outputs": [
    {
     "data": {
      "text/plain": [
       "(#2) [Path('/root/.fastai/data/yelp50k_dataset/reviews_50k.json'),Path('/root/.fastai/data/yelp50k_dataset/models')]"
      ]
     },
     "execution_count": 4,
     "metadata": {},
     "output_type": "execute_result"
    }
   ],
   "source": [
    "path.ls()"
   ]
  },
  {
   "cell_type": "markdown",
   "id": "b2ad10fc",
   "metadata": {},
   "source": [
    "Data is in JSON format, although not a single JSON object, but a JSON object by line. We use pandas to import it."
   ]
  },
  {
   "cell_type": "code",
   "execution_count": 5,
   "id": "f0078b68",
   "metadata": {
    "ExecuteTime": {
     "end_time": "2023-12-10T14:02:58.000745Z",
     "start_time": "2023-12-10T14:02:57.644793Z"
    }
   },
   "outputs": [],
   "source": [
    "df = pd.read_json(path/\"reviews_50k.json\", lines=True)"
   ]
  },
  {
   "cell_type": "code",
   "execution_count": 6,
   "id": "70ed840d",
   "metadata": {
    "ExecuteTime": {
     "end_time": "2023-12-10T14:02:58.433723Z",
     "start_time": "2023-12-10T14:02:58.425919Z"
    }
   },
   "outputs": [
    {
     "data": {
      "text/html": [
       "<div>\n",
       "<style scoped>\n",
       "    .dataframe tbody tr th:only-of-type {\n",
       "        vertical-align: middle;\n",
       "    }\n",
       "\n",
       "    .dataframe tbody tr th {\n",
       "        vertical-align: top;\n",
       "    }\n",
       "\n",
       "    .dataframe thead th {\n",
       "        text-align: right;\n",
       "    }\n",
       "</style>\n",
       "<table border=\"1\" class=\"dataframe\">\n",
       "  <thead>\n",
       "    <tr style=\"text-align: right;\">\n",
       "      <th></th>\n",
       "      <th>review_id</th>\n",
       "      <th>user_id</th>\n",
       "      <th>business_id</th>\n",
       "      <th>stars</th>\n",
       "      <th>useful</th>\n",
       "      <th>funny</th>\n",
       "      <th>cool</th>\n",
       "      <th>text</th>\n",
       "      <th>date</th>\n",
       "    </tr>\n",
       "  </thead>\n",
       "  <tbody>\n",
       "    <tr>\n",
       "      <th>0</th>\n",
       "      <td>Q1sbwvVQXV2734tPgoKj4Q</td>\n",
       "      <td>hG7b0MtEbXx5QzbzE6C_VA</td>\n",
       "      <td>ujmEBvifdJM6h6RLv4wQIg</td>\n",
       "      <td>1</td>\n",
       "      <td>6</td>\n",
       "      <td>1</td>\n",
       "      <td>0</td>\n",
       "      <td>Total bill for this horrible service? Over $8Gs. These crooks actually had the nerve to charge us $69 for 3 pills. I checked online the pills can be had for 19 cents EACH! Avoid Hospital ERs at all costs.</td>\n",
       "      <td>2013-05-07 04:34:36</td>\n",
       "    </tr>\n",
       "    <tr>\n",
       "      <th>1</th>\n",
       "      <td>GJXCdrto3ASJOqKeVWPi6Q</td>\n",
       "      <td>yXQM5uF2jS6es16SJzNHfg</td>\n",
       "      <td>NZnhc2sEQy3RmzKTZnqtwQ</td>\n",
       "      <td>5</td>\n",
       "      <td>0</td>\n",
       "      <td>0</td>\n",
       "      <td>0</td>\n",
       "      <td>I *adore* Travis at the Hard Rock's new Kelly Cardenas Salon!  I'm always a fan of a great blowout and no stranger to the chains that offer this service; however, Travis has taken the flawless blowout to a whole new level!  \\n\\nTravis's greets you with his perfectly green swoosh in his otherwise perfectly styled black hair and a Vegas-worthy rockstar outfit.  Next comes the most relaxing and incredible shampoo -- where you get a full head message that could cure even the very worst migraine in minutes --- and the scented shampoo room.  Travis has freakishly strong fingers (in a good way) a...</td>\n",
       "      <td>2017-01-14 21:30:33</td>\n",
       "    </tr>\n",
       "    <tr>\n",
       "      <th>2</th>\n",
       "      <td>2TzJjDVDEuAW6MR5Vuc1ug</td>\n",
       "      <td>n6-Gk65cPZL6Uz8qRm3NYw</td>\n",
       "      <td>WTqjgwHlXbSFevF32_DJVw</td>\n",
       "      <td>5</td>\n",
       "      <td>3</td>\n",
       "      <td>0</td>\n",
       "      <td>0</td>\n",
       "      <td>I have to say that this office really has it together, they are so organized and friendly!  Dr. J. Phillipp is a great dentist, very friendly and professional.  The dental assistants that helped in my procedure were amazing, Jewel and Bailey helped me to feel comfortable!  I don't have dental insurance, but they have this insurance through their office you can purchase for $80 something a year and this gave me 25% off all of my dental work, plus they helped me get signed up for care credit which I knew nothing about before this visit!  I highly recommend this office for the nice synergy th...</td>\n",
       "      <td>2016-11-09 20:09:03</td>\n",
       "    </tr>\n",
       "    <tr>\n",
       "      <th>3</th>\n",
       "      <td>yi0R0Ugj_xUx_Nek0-_Qig</td>\n",
       "      <td>dacAIZ6fTM6mqwW5uxkskg</td>\n",
       "      <td>ikCg8xy5JIg_NGPx-MSIDA</td>\n",
       "      <td>5</td>\n",
       "      <td>0</td>\n",
       "      <td>0</td>\n",
       "      <td>0</td>\n",
       "      <td>Went in for a lunch. Steak sandwich was delicious, and the Caesar salad had an absolutely delicious dressing, with a perfect amount of dressing, and distributed perfectly across each leaf. I know I'm going on about the salad ... But it was perfect.\\n\\nDrink prices were pretty good.\\n\\nThe Server, Dawn, was friendly and accommodating. Very happy with her.\\n\\nIn summation, a great pub experience. Would go again!</td>\n",
       "      <td>2018-01-09 20:56:38</td>\n",
       "    </tr>\n",
       "    <tr>\n",
       "      <th>4</th>\n",
       "      <td>11a8sVPMUFtaC7_ABRkmtw</td>\n",
       "      <td>ssoyf2_x0EQMed6fgHeMyQ</td>\n",
       "      <td>b1b1eb3uo-w561D0ZfCEiQ</td>\n",
       "      <td>1</td>\n",
       "      <td>7</td>\n",
       "      <td>0</td>\n",
       "      <td>0</td>\n",
       "      <td>Today was my second out of three sessions I had paid for. Although my first session went well, I could tell Meredith had a particular enjoyment for her male clients over her female. However, I returned because she did my teeth fine and I was pleased with the results. When I went in today, I was in the whitening room with three other gentlemen. My appointment started out well, although, being a person who is in the service industry, I always attend to my female clientele first when a couple arrives. Unbothered by those signs, I waited my turn. She checked on me once after my original 30 min...</td>\n",
       "      <td>2018-01-30 23:07:38</td>\n",
       "    </tr>\n",
       "  </tbody>\n",
       "</table>\n",
       "</div>"
      ],
      "text/plain": [
       "                review_id                 user_id             business_id  \\\n",
       "0  Q1sbwvVQXV2734tPgoKj4Q  hG7b0MtEbXx5QzbzE6C_VA  ujmEBvifdJM6h6RLv4wQIg   \n",
       "1  GJXCdrto3ASJOqKeVWPi6Q  yXQM5uF2jS6es16SJzNHfg  NZnhc2sEQy3RmzKTZnqtwQ   \n",
       "2  2TzJjDVDEuAW6MR5Vuc1ug  n6-Gk65cPZL6Uz8qRm3NYw  WTqjgwHlXbSFevF32_DJVw   \n",
       "3  yi0R0Ugj_xUx_Nek0-_Qig  dacAIZ6fTM6mqwW5uxkskg  ikCg8xy5JIg_NGPx-MSIDA   \n",
       "4  11a8sVPMUFtaC7_ABRkmtw  ssoyf2_x0EQMed6fgHeMyQ  b1b1eb3uo-w561D0ZfCEiQ   \n",
       "\n",
       "   stars  useful  funny  cool  \\\n",
       "0      1       6      1     0   \n",
       "1      5       0      0     0   \n",
       "2      5       3      0     0   \n",
       "3      5       0      0     0   \n",
       "4      1       7      0     0   \n",
       "\n",
       "                                                                                                                                                                                                                                                                                                                                                                                                                                                                                                                                                                                                                      text  \\\n",
       "0                                                                                                                                                                                                                                                                                                                                                                                                             Total bill for this horrible service? Over $8Gs. These crooks actually had the nerve to charge us $69 for 3 pills. I checked online the pills can be had for 19 cents EACH! Avoid Hospital ERs at all costs.   \n",
       "1  I *adore* Travis at the Hard Rock's new Kelly Cardenas Salon!  I'm always a fan of a great blowout and no stranger to the chains that offer this service; however, Travis has taken the flawless blowout to a whole new level!  \\n\\nTravis's greets you with his perfectly green swoosh in his otherwise perfectly styled black hair and a Vegas-worthy rockstar outfit.  Next comes the most relaxing and incredible shampoo -- where you get a full head message that could cure even the very worst migraine in minutes --- and the scented shampoo room.  Travis has freakishly strong fingers (in a good way) a...   \n",
       "2  I have to say that this office really has it together, they are so organized and friendly!  Dr. J. Phillipp is a great dentist, very friendly and professional.  The dental assistants that helped in my procedure were amazing, Jewel and Bailey helped me to feel comfortable!  I don't have dental insurance, but they have this insurance through their office you can purchase for $80 something a year and this gave me 25% off all of my dental work, plus they helped me get signed up for care credit which I knew nothing about before this visit!  I highly recommend this office for the nice synergy th...   \n",
       "3                                                                                                                                                                                            Went in for a lunch. Steak sandwich was delicious, and the Caesar salad had an absolutely delicious dressing, with a perfect amount of dressing, and distributed perfectly across each leaf. I know I'm going on about the salad ... But it was perfect.\\n\\nDrink prices were pretty good.\\n\\nThe Server, Dawn, was friendly and accommodating. Very happy with her.\\n\\nIn summation, a great pub experience. Would go again!   \n",
       "4  Today was my second out of three sessions I had paid for. Although my first session went well, I could tell Meredith had a particular enjoyment for her male clients over her female. However, I returned because she did my teeth fine and I was pleased with the results. When I went in today, I was in the whitening room with three other gentlemen. My appointment started out well, although, being a person who is in the service industry, I always attend to my female clientele first when a couple arrives. Unbothered by those signs, I waited my turn. She checked on me once after my original 30 min...   \n",
       "\n",
       "                 date  \n",
       "0 2013-05-07 04:34:36  \n",
       "1 2017-01-14 21:30:33  \n",
       "2 2016-11-09 20:09:03  \n",
       "3 2018-01-09 20:56:38  \n",
       "4 2018-01-30 23:07:38  "
      ]
     },
     "execution_count": 6,
     "metadata": {},
     "output_type": "execute_result"
    }
   ],
   "source": [
    "df.head()"
   ]
  },
  {
   "cell_type": "markdown",
   "id": "c5db7e8a",
   "metadata": {},
   "source": [
    "We drop unnecessary data (columns we won't be using for the model)."
   ]
  },
  {
   "cell_type": "code",
   "execution_count": 8,
   "id": "9c2e814f",
   "metadata": {
    "ExecuteTime": {
     "end_time": "2023-12-10T14:03:17.841313Z",
     "start_time": "2023-12-10T14:03:17.798963Z"
    }
   },
   "outputs": [
    {
     "ename": "KeyError",
     "evalue": "\"['review_id' 'user_id' 'business_id' 'date' 'useful' 'funny' 'cool'] not found in axis\"",
     "output_type": "error",
     "traceback": [
      "\u001b[0;31m---------------------------------------------------------------------------\u001b[0m",
      "\u001b[0;31mKeyError\u001b[0m                                  Traceback (most recent call last)",
      "\u001b[0;32m<ipython-input-8-c9c991da9cbc>\u001b[0m in \u001b[0;36m<module>\u001b[0;34m\u001b[0m\n\u001b[0;32m----> 1\u001b[0;31m \u001b[0mdf\u001b[0m\u001b[0;34m.\u001b[0m\u001b[0mdrop\u001b[0m\u001b[0;34m(\u001b[0m\u001b[0;34m[\u001b[0m\u001b[0;34m'review_id'\u001b[0m\u001b[0;34m,\u001b[0m\u001b[0;34m'user_id'\u001b[0m\u001b[0;34m,\u001b[0m\u001b[0;34m'business_id'\u001b[0m\u001b[0;34m,\u001b[0m\u001b[0;34m'date'\u001b[0m\u001b[0;34m,\u001b[0m\u001b[0;34m'useful'\u001b[0m\u001b[0;34m,\u001b[0m\u001b[0;34m'funny'\u001b[0m\u001b[0;34m,\u001b[0m\u001b[0;34m'cool'\u001b[0m\u001b[0;34m]\u001b[0m\u001b[0;34m,\u001b[0m \u001b[0maxis\u001b[0m\u001b[0;34m=\u001b[0m\u001b[0;36m1\u001b[0m\u001b[0;34m,\u001b[0m \u001b[0minplace\u001b[0m\u001b[0;34m=\u001b[0m\u001b[0;32mTrue\u001b[0m\u001b[0;34m)\u001b[0m\u001b[0;34m\u001b[0m\u001b[0;34m\u001b[0m\u001b[0m\n\u001b[0m",
      "\u001b[0;32m/opt/conda/lib/python3.8/site-packages/pandas/core/frame.py\u001b[0m in \u001b[0;36mdrop\u001b[0;34m(self, labels, axis, index, columns, level, inplace, errors)\u001b[0m\n\u001b[1;32m   4306\u001b[0m                 \u001b[0mweight\u001b[0m  \u001b[0;36m1.0\u001b[0m     \u001b[0;36m0.8\u001b[0m\u001b[0;34m\u001b[0m\u001b[0;34m\u001b[0m\u001b[0m\n\u001b[1;32m   4307\u001b[0m         \"\"\"\n\u001b[0;32m-> 4308\u001b[0;31m         return super().drop(\n\u001b[0m\u001b[1;32m   4309\u001b[0m             \u001b[0mlabels\u001b[0m\u001b[0;34m=\u001b[0m\u001b[0mlabels\u001b[0m\u001b[0;34m,\u001b[0m\u001b[0;34m\u001b[0m\u001b[0;34m\u001b[0m\u001b[0m\n\u001b[1;32m   4310\u001b[0m             \u001b[0maxis\u001b[0m\u001b[0;34m=\u001b[0m\u001b[0maxis\u001b[0m\u001b[0;34m,\u001b[0m\u001b[0;34m\u001b[0m\u001b[0;34m\u001b[0m\u001b[0m\n",
      "\u001b[0;32m/opt/conda/lib/python3.8/site-packages/pandas/core/generic.py\u001b[0m in \u001b[0;36mdrop\u001b[0;34m(self, labels, axis, index, columns, level, inplace, errors)\u001b[0m\n\u001b[1;32m   4151\u001b[0m         \u001b[0;32mfor\u001b[0m \u001b[0maxis\u001b[0m\u001b[0;34m,\u001b[0m \u001b[0mlabels\u001b[0m \u001b[0;32min\u001b[0m \u001b[0maxes\u001b[0m\u001b[0;34m.\u001b[0m\u001b[0mitems\u001b[0m\u001b[0;34m(\u001b[0m\u001b[0;34m)\u001b[0m\u001b[0;34m:\u001b[0m\u001b[0;34m\u001b[0m\u001b[0;34m\u001b[0m\u001b[0m\n\u001b[1;32m   4152\u001b[0m             \u001b[0;32mif\u001b[0m \u001b[0mlabels\u001b[0m \u001b[0;32mis\u001b[0m \u001b[0;32mnot\u001b[0m \u001b[0;32mNone\u001b[0m\u001b[0;34m:\u001b[0m\u001b[0;34m\u001b[0m\u001b[0;34m\u001b[0m\u001b[0m\n\u001b[0;32m-> 4153\u001b[0;31m                 \u001b[0mobj\u001b[0m \u001b[0;34m=\u001b[0m \u001b[0mobj\u001b[0m\u001b[0;34m.\u001b[0m\u001b[0m_drop_axis\u001b[0m\u001b[0;34m(\u001b[0m\u001b[0mlabels\u001b[0m\u001b[0;34m,\u001b[0m \u001b[0maxis\u001b[0m\u001b[0;34m,\u001b[0m \u001b[0mlevel\u001b[0m\u001b[0;34m=\u001b[0m\u001b[0mlevel\u001b[0m\u001b[0;34m,\u001b[0m \u001b[0merrors\u001b[0m\u001b[0;34m=\u001b[0m\u001b[0merrors\u001b[0m\u001b[0;34m)\u001b[0m\u001b[0;34m\u001b[0m\u001b[0;34m\u001b[0m\u001b[0m\n\u001b[0m\u001b[1;32m   4154\u001b[0m \u001b[0;34m\u001b[0m\u001b[0m\n\u001b[1;32m   4155\u001b[0m         \u001b[0;32mif\u001b[0m \u001b[0minplace\u001b[0m\u001b[0;34m:\u001b[0m\u001b[0;34m\u001b[0m\u001b[0;34m\u001b[0m\u001b[0m\n",
      "\u001b[0;32m/opt/conda/lib/python3.8/site-packages/pandas/core/generic.py\u001b[0m in \u001b[0;36m_drop_axis\u001b[0;34m(self, labels, axis, level, errors)\u001b[0m\n\u001b[1;32m   4186\u001b[0m                 \u001b[0mnew_axis\u001b[0m \u001b[0;34m=\u001b[0m \u001b[0maxis\u001b[0m\u001b[0;34m.\u001b[0m\u001b[0mdrop\u001b[0m\u001b[0;34m(\u001b[0m\u001b[0mlabels\u001b[0m\u001b[0;34m,\u001b[0m \u001b[0mlevel\u001b[0m\u001b[0;34m=\u001b[0m\u001b[0mlevel\u001b[0m\u001b[0;34m,\u001b[0m \u001b[0merrors\u001b[0m\u001b[0;34m=\u001b[0m\u001b[0merrors\u001b[0m\u001b[0;34m)\u001b[0m\u001b[0;34m\u001b[0m\u001b[0;34m\u001b[0m\u001b[0m\n\u001b[1;32m   4187\u001b[0m             \u001b[0;32melse\u001b[0m\u001b[0;34m:\u001b[0m\u001b[0;34m\u001b[0m\u001b[0;34m\u001b[0m\u001b[0m\n\u001b[0;32m-> 4188\u001b[0;31m                 \u001b[0mnew_axis\u001b[0m \u001b[0;34m=\u001b[0m \u001b[0maxis\u001b[0m\u001b[0;34m.\u001b[0m\u001b[0mdrop\u001b[0m\u001b[0;34m(\u001b[0m\u001b[0mlabels\u001b[0m\u001b[0;34m,\u001b[0m \u001b[0merrors\u001b[0m\u001b[0;34m=\u001b[0m\u001b[0merrors\u001b[0m\u001b[0;34m)\u001b[0m\u001b[0;34m\u001b[0m\u001b[0;34m\u001b[0m\u001b[0m\n\u001b[0m\u001b[1;32m   4189\u001b[0m             \u001b[0mresult\u001b[0m \u001b[0;34m=\u001b[0m \u001b[0mself\u001b[0m\u001b[0;34m.\u001b[0m\u001b[0mreindex\u001b[0m\u001b[0;34m(\u001b[0m\u001b[0;34m**\u001b[0m\u001b[0;34m{\u001b[0m\u001b[0maxis_name\u001b[0m\u001b[0;34m:\u001b[0m \u001b[0mnew_axis\u001b[0m\u001b[0;34m}\u001b[0m\u001b[0;34m)\u001b[0m\u001b[0;34m\u001b[0m\u001b[0;34m\u001b[0m\u001b[0m\n\u001b[1;32m   4190\u001b[0m \u001b[0;34m\u001b[0m\u001b[0m\n",
      "\u001b[0;32m/opt/conda/lib/python3.8/site-packages/pandas/core/indexes/base.py\u001b[0m in \u001b[0;36mdrop\u001b[0;34m(self, labels, errors)\u001b[0m\n\u001b[1;32m   5590\u001b[0m         \u001b[0;32mif\u001b[0m \u001b[0mmask\u001b[0m\u001b[0;34m.\u001b[0m\u001b[0many\u001b[0m\u001b[0;34m(\u001b[0m\u001b[0;34m)\u001b[0m\u001b[0;34m:\u001b[0m\u001b[0;34m\u001b[0m\u001b[0;34m\u001b[0m\u001b[0m\n\u001b[1;32m   5591\u001b[0m             \u001b[0;32mif\u001b[0m \u001b[0merrors\u001b[0m \u001b[0;34m!=\u001b[0m \u001b[0;34m\"ignore\"\u001b[0m\u001b[0;34m:\u001b[0m\u001b[0;34m\u001b[0m\u001b[0;34m\u001b[0m\u001b[0m\n\u001b[0;32m-> 5592\u001b[0;31m                 \u001b[0;32mraise\u001b[0m \u001b[0mKeyError\u001b[0m\u001b[0;34m(\u001b[0m\u001b[0;34mf\"{labels[mask]} not found in axis\"\u001b[0m\u001b[0;34m)\u001b[0m\u001b[0;34m\u001b[0m\u001b[0;34m\u001b[0m\u001b[0m\n\u001b[0m\u001b[1;32m   5593\u001b[0m             \u001b[0mindexer\u001b[0m \u001b[0;34m=\u001b[0m \u001b[0mindexer\u001b[0m\u001b[0;34m[\u001b[0m\u001b[0;34m~\u001b[0m\u001b[0mmask\u001b[0m\u001b[0;34m]\u001b[0m\u001b[0;34m\u001b[0m\u001b[0;34m\u001b[0m\u001b[0m\n\u001b[1;32m   5594\u001b[0m         \u001b[0;32mreturn\u001b[0m \u001b[0mself\u001b[0m\u001b[0;34m.\u001b[0m\u001b[0mdelete\u001b[0m\u001b[0;34m(\u001b[0m\u001b[0mindexer\u001b[0m\u001b[0;34m)\u001b[0m\u001b[0;34m\u001b[0m\u001b[0;34m\u001b[0m\u001b[0m\n",
      "\u001b[0;31mKeyError\u001b[0m: \"['review_id' 'user_id' 'business_id' 'date' 'useful' 'funny' 'cool'] not found in axis\""
     ]
    }
   ],
   "source": [
    "df.drop(['review_id','user_id','business_id','date','useful','funny','cool'], axis=1, inplace=True)"
   ]
  },
  {
   "cell_type": "markdown",
   "id": "af733389",
   "metadata": {},
   "source": [
    "We keep only text and stars (value of the review)."
   ]
  },
  {
   "cell_type": "code",
   "execution_count": 10,
   "id": "7e778e18",
   "metadata": {
    "ExecuteTime": {
     "end_time": "2023-12-10T14:03:37.533501Z",
     "start_time": "2023-12-10T14:03:37.530449Z"
    }
   },
   "outputs": [
    {
     "data": {
      "text/plain": [
       "stars     int64\n",
       "text     object\n",
       "dtype: object"
      ]
     },
     "execution_count": 10,
     "metadata": {},
     "output_type": "execute_result"
    }
   ],
   "source": [
    "df.dtypes"
   ]
  },
  {
   "cell_type": "markdown",
   "id": "5b9390db",
   "metadata": {},
   "source": [
    "## Train/validation split\n",
    "\n",
    "We will use a 80/20 split."
   ]
  },
  {
   "cell_type": "code",
   "execution_count": 11,
   "id": "a3183614",
   "metadata": {
    "ExecuteTime": {
     "end_time": "2023-12-10T14:04:43.436990Z",
     "start_time": "2023-12-10T14:04:43.435315Z"
    }
   },
   "outputs": [],
   "source": [
    "cut = int(0.8*len(df))"
   ]
  },
  {
   "cell_type": "code",
   "execution_count": 12,
   "id": "ddd2aae1",
   "metadata": {
    "ExecuteTime": {
     "end_time": "2023-12-10T14:04:44.347272Z",
     "start_time": "2023-12-10T14:04:44.345180Z"
    }
   },
   "outputs": [],
   "source": [
    "splits = [list(range(cut)), list(range(cut,len(df)))]"
   ]
  },
  {
   "cell_type": "markdown",
   "id": "90805176",
   "metadata": {},
   "source": [
    "The trasnformations we will implement to create the DataLoaders. "
   ]
  },
  {
   "cell_type": "code",
   "execution_count": 13,
   "id": "a7212957",
   "metadata": {
    "ExecuteTime": {
     "end_time": "2023-12-10T14:05:15.465188Z",
     "start_time": "2023-12-10T14:05:13.682408Z"
    }
   },
   "outputs": [],
   "source": [
    "tfms = [attrgetter(\"text\"), Tokenizer.from_df(1), Numericalize()]"
   ]
  },
  {
   "cell_type": "code",
   "execution_count": 14,
   "id": "5972ee54",
   "metadata": {
    "ExecuteTime": {
     "end_time": "2023-12-10T14:06:08.980350Z",
     "start_time": "2023-12-10T14:05:15.466316Z"
    }
   },
   "outputs": [
    {
     "data": {
      "text/html": [],
      "text/plain": [
       "<IPython.core.display.HTML object>"
      ]
     },
     "metadata": {},
     "output_type": "display_data"
    },
    {
     "name": "stderr",
     "output_type": "stream",
     "text": [
      "/opt/conda/lib/python3.8/site-packages/numpy/core/_asarray.py:83: VisibleDeprecationWarning: Creating an ndarray from ragged nested sequences (which is a list-or-tuple of lists-or-tuples-or ndarrays with different lengths or shapes) is deprecated. If you meant to do this, you must specify 'dtype=object' when creating the ndarray\n",
      "  return array(a, dtype, copy=False, order=order)\n"
     ]
    }
   ],
   "source": [
    "dataset = Datasets(df, [tfms], splits=splits, dl_type=LMDataLoader)"
   ]
  },
  {
   "cell_type": "markdown",
   "id": "60dc8eaf",
   "metadata": {},
   "source": [
    "By using the device parameter we can move from one GPU to another (cuda:0 to cuda:1), for example."
   ]
  },
  {
   "cell_type": "code",
   "execution_count": 15,
   "id": "dffe64e8",
   "metadata": {
    "ExecuteTime": {
     "end_time": "2023-12-10T14:06:54.050275Z",
     "start_time": "2023-12-10T14:06:53.877224Z"
    }
   },
   "outputs": [],
   "source": [
    "dl = dataset.dataloaders(bs=104, seq_len=72, device=torch.device('cuda:0'))"
   ]
  },
  {
   "cell_type": "code",
   "execution_count": 16,
   "id": "59341cb2",
   "metadata": {
    "ExecuteTime": {
     "end_time": "2023-12-10T14:06:59.532128Z",
     "start_time": "2023-12-10T14:06:59.336121Z"
    }
   },
   "outputs": [
    {
     "data": {
      "text/html": [
       "<table border=\"1\" class=\"dataframe\">\n",
       "  <thead>\n",
       "    <tr style=\"text-align: right;\">\n",
       "      <th></th>\n",
       "      <th>text</th>\n",
       "      <th>text_</th>\n",
       "    </tr>\n",
       "  </thead>\n",
       "  <tbody>\n",
       "    <tr>\n",
       "      <th>0</th>\n",
       "      <td>xxbos i feel so lucky to have found this fitness center . xxmaj it had been five years since i had a gym membership . i could n't stand the thought of spending time in a stinky overcrowded facility ran by stuck up employees who only speak to you if you approach them first . xxmaj the gym offers brand new state of the art equipment including interactive machines which helps keeps</td>\n",
       "      <td>i feel so lucky to have found this fitness center . xxmaj it had been five years since i had a gym membership . i could n't stand the thought of spending time in a stinky overcrowded facility ran by stuck up employees who only speak to you if you approach them first . xxmaj the gym offers brand new state of the art equipment including interactive machines which helps keeps you</td>\n",
       "    </tr>\n",
       "    <tr>\n",
       "      <th>1</th>\n",
       "      <td>we had a great meal with even better service last night at xxmaj the xxmaj keg . xxmaj although my wife 's filet was a bit undercooked , they corrected the steak and then comped our wine and dessert . xxmaj nice touch . xxmaj and the atmosphere on the patio was great . xxbos xxmaj this place is the bomb , fresh and delicious it ca n't get any better than</td>\n",
       "      <td>had a great meal with even better service last night at xxmaj the xxmaj keg . xxmaj although my wife 's filet was a bit undercooked , they corrected the steak and then comped our wine and dessert . xxmaj nice touch . xxmaj and the atmosphere on the patio was great . xxbos xxmaj this place is the bomb , fresh and delicious it ca n't get any better than this</td>\n",
       "    </tr>\n",
       "    <tr>\n",
       "      <th>2</th>\n",
       "      <td>. xxmaj they has a seafood pizza with shrimp and it was for reals so heavenly * drool * . xxmaj also , the crab was great , the duck was yummy and honestly , i did n't have anything that i did n't like . \\n\\n\\n i really want to come back here for dinner sometime ! xxmaj so far it 's been my fave buffet in xxmaj vegas . xxmaj</td>\n",
       "      <td>xxmaj they has a seafood pizza with shrimp and it was for reals so heavenly * drool * . xxmaj also , the crab was great , the duck was yummy and honestly , i did n't have anything that i did n't like . \\n\\n\\n i really want to come back here for dinner sometime ! xxmaj so far it 's been my fave buffet in xxmaj vegas . xxmaj i</td>\n",
       "    </tr>\n",
       "    <tr>\n",
       "      <th>3</th>\n",
       "      <td>xxbos xxmaj i 've had dinner at the xxmaj river xxmaj cafe twice . xxmaj both times xxmaj i 've left thinking the place was just ok , but at the same time xxmaj i 'd recommend the place , mainly because of its setting . \\n\\n xxmaj the atmosphere is excellent . xxmaj the restaurant is set in xxmaj prince 's xxmaj island xxmaj park , a picturesque park right off</td>\n",
       "      <td>xxmaj i 've had dinner at the xxmaj river xxmaj cafe twice . xxmaj both times xxmaj i 've left thinking the place was just ok , but at the same time xxmaj i 'd recommend the place , mainly because of its setting . \\n\\n xxmaj the atmosphere is excellent . xxmaj the restaurant is set in xxmaj prince 's xxmaj island xxmaj park , a picturesque park right off the</td>\n",
       "    </tr>\n",
       "    <tr>\n",
       "      <th>4</th>\n",
       "      <td>the mix ! xxbos xxmaj too bad i ca n't give a 0 star have to give one . i will never eat here again . xxmaj it took almost 5 mins for me to be helped while there was 4 workers in the kitchen . i was n't even greated nor was there an apology for me having to wait . xxmaj and when i got my pizza the cuts were</td>\n",
       "      <td>mix ! xxbos xxmaj too bad i ca n't give a 0 star have to give one . i will never eat here again . xxmaj it took almost 5 mins for me to be helped while there was 4 workers in the kitchen . i was n't even greated nor was there an apology for me having to wait . xxmaj and when i got my pizza the cuts were so</td>\n",
       "    </tr>\n",
       "    <tr>\n",
       "      <th>5</th>\n",
       "      <td>. xxmaj each townhome has its own garage and can hold one car ( one bedroom unit ) or 2 cars ( 2 / 3 bedroom unit ) . xxmaj office staff is always friendly and will act immediately on most repairs or complaints . xxmaj i 'd say the only challenges here are the flights of steps you have to climb in the apartments , moderate amount of noise through the</td>\n",
       "      <td>xxmaj each townhome has its own garage and can hold one car ( one bedroom unit ) or 2 cars ( 2 / 3 bedroom unit ) . xxmaj office staff is always friendly and will act immediately on most repairs or complaints . xxmaj i 'd say the only challenges here are the flights of steps you have to climb in the apartments , moderate amount of noise through the walls</td>\n",
       "    </tr>\n",
       "    <tr>\n",
       "      <th>6</th>\n",
       "      <td>wrong with this spa ! xxbos xxmaj not a bad selection for all you can eat sushi but i have been to better with others when placing orders with an ipad . xxmaj restaurant was busy for lunch and they did bring out our food fast which was an added bonus . xxmaj wish they had more tofu options on the menu but it was a great experience . xxbos xxmaj i</td>\n",
       "      <td>with this spa ! xxbos xxmaj not a bad selection for all you can eat sushi but i have been to better with others when placing orders with an ipad . xxmaj restaurant was busy for lunch and they did bring out our food fast which was an added bonus . xxmaj wish they had more tofu options on the menu but it was a great experience . xxbos xxmaj i 've</td>\n",
       "    </tr>\n",
       "    <tr>\n",
       "      <th>7</th>\n",
       "      <td>have figure out our favorites ! xxbos xxmaj stayed here for a business / personal trip . xxmaj all staff members were really friendly and helpful ! xxmaj the hotel was clean and accommodating . xxmaj fun location with some good views . xxmaj really enjoyed my stay and will be back ! xxbos xxmaj worst experience ever … . i guess it 's my first time left negative comments but definitely</td>\n",
       "      <td>figure out our favorites ! xxbos xxmaj stayed here for a business / personal trip . xxmaj all staff members were really friendly and helpful ! xxmaj the hotel was clean and accommodating . xxmaj fun location with some good views . xxmaj really enjoyed my stay and will be back ! xxbos xxmaj worst experience ever … . i guess it 's my first time left negative comments but definitely for</td>\n",
       "    </tr>\n",
       "    <tr>\n",
       "      <th>8</th>\n",
       "      <td>to xxmaj xxunk instead and got my cleats immediately . xxbos xxmaj our waitress xxmaj lola was wonder helping us decide how to get exactly what we wanted from amazing menu unique menu choices . xxmaj menu had eggs all over it not happy , but waitress and taste of food xxunk up for it . xxmaj they should was down menus before putting back in pile to give out . \\n\\n</td>\n",
       "      <td>xxmaj xxunk instead and got my cleats immediately . xxbos xxmaj our waitress xxmaj lola was wonder helping us decide how to get exactly what we wanted from amazing menu unique menu choices . xxmaj menu had eggs all over it not happy , but waitress and taste of food xxunk up for it . xxmaj they should was down menus before putting back in pile to give out . \\n\\n xxmaj</td>\n",
       "    </tr>\n",
       "  </tbody>\n",
       "</table>"
      ],
      "text/plain": [
       "<IPython.core.display.HTML object>"
      ]
     },
     "metadata": {},
     "output_type": "display_data"
    }
   ],
   "source": [
    "dl.show_batch()"
   ]
  },
  {
   "cell_type": "markdown",
   "id": "8729e091",
   "metadata": {},
   "source": [
    "## Neural Network Creation \n",
    "\n",
    "We create a NeuralNetwork, based on the LSTM model. We transform it to fp16 (FloatingPoint16) datatype to speed up its training. "
   ]
  },
  {
   "cell_type": "code",
   "execution_count": 17,
   "id": "e59a6d51",
   "metadata": {
    "ExecuteTime": {
     "end_time": "2023-12-10T14:07:53.043195Z",
     "start_time": "2023-12-10T14:07:52.500370Z"
    }
   },
   "outputs": [],
   "source": [
    "learn = language_model_learner(dl, AWD_LSTM, metrics=[accuracy, Perplexity()], path=path, wd=0.1).to_fp16()"
   ]
  },
  {
   "cell_type": "code",
   "execution_count": 18,
   "id": "11ac694d",
   "metadata": {
    "ExecuteTime": {
     "end_time": "2023-12-10T14:07:54.420777Z",
     "start_time": "2023-12-10T14:07:54.418201Z"
    }
   },
   "outputs": [
    {
     "data": {
      "text/plain": [
       "SequentialRNN(\n",
       "  (0): AWD_LSTM(\n",
       "    (encoder): Embedding(25888, 400, padding_idx=1)\n",
       "    (encoder_dp): EmbeddingDropout(\n",
       "      (emb): Embedding(25888, 400, padding_idx=1)\n",
       "    )\n",
       "    (rnns): ModuleList(\n",
       "      (0): WeightDropout(\n",
       "        (module): LSTM(400, 1152, batch_first=True)\n",
       "      )\n",
       "      (1): WeightDropout(\n",
       "        (module): LSTM(1152, 1152, batch_first=True)\n",
       "      )\n",
       "      (2): WeightDropout(\n",
       "        (module): LSTM(1152, 400, batch_first=True)\n",
       "      )\n",
       "    )\n",
       "    (input_dp): RNNDropout()\n",
       "    (hidden_dps): ModuleList(\n",
       "      (0-2): 3 x RNNDropout()\n",
       "    )\n",
       "  )\n",
       "  (1): LinearDecoder(\n",
       "    (decoder): Linear(in_features=400, out_features=25888, bias=True)\n",
       "    (output_dp): RNNDropout()\n",
       "  )\n",
       ")"
      ]
     },
     "execution_count": 18,
     "metadata": {},
     "output_type": "execute_result"
    }
   ],
   "source": [
    "learn.model"
   ]
  },
  {
   "cell_type": "markdown",
   "id": "8006be42",
   "metadata": {},
   "source": [
    "## Neural Network training"
   ]
  },
  {
   "cell_type": "markdown",
   "id": "20521c34",
   "metadata": {},
   "source": [
    "Finding the learning rate"
   ]
  },
  {
   "cell_type": "code",
   "execution_count": 19,
   "id": "3633d56f",
   "metadata": {
    "ExecuteTime": {
     "end_time": "2023-12-10T14:08:40.477502Z",
     "start_time": "2023-12-10T14:08:27.153225Z"
    }
   },
   "outputs": [
    {
     "data": {
      "text/html": [],
      "text/plain": [
       "<IPython.core.display.HTML object>"
      ]
     },
     "metadata": {},
     "output_type": "display_data"
    },
    {
     "data": {
      "text/plain": [
       "SuggestedLRs(valley=0.004365158267319202)"
      ]
     },
     "execution_count": 19,
     "metadata": {},
     "output_type": "execute_result"
    },
    {
     "data": {
      "image/png": "[encoded data removed]",
      "text/plain": [
       "<Figure size 432x288 with 1 Axes>"
      ]
     },
     "metadata": {
      "needs_background": "light"
     },
     "output_type": "display_data"
    }
   ],
   "source": [
    "learn.lr_find()"
   ]
  },
  {
   "cell_type": "markdown",
   "id": "837663b5",
   "metadata": {},
   "source": [
    "Train for 4 epochs"
   ]
  },
  {
   "cell_type": "code",
   "execution_count": 20,
   "id": "81d1b61a",
   "metadata": {
    "ExecuteTime": {
     "end_time": "2023-12-10T14:15:48.717441Z",
     "start_time": "2023-12-10T14:08:42.413734Z"
    }
   },
   "outputs": [
    {
     "data": {
      "text/html": [
       "<table border=\"1\" class=\"dataframe\">\n",
       "  <thead>\n",
       "    <tr style=\"text-align: left;\">\n",
       "      <th>epoch</th>\n",
       "      <th>train_loss</th>\n",
       "      <th>valid_loss</th>\n",
       "      <th>accuracy</th>\n",
       "      <th>perplexity</th>\n",
       "      <th>time</th>\n",
       "    </tr>\n",
       "  </thead>\n",
       "  <tbody>\n",
       "    <tr>\n",
       "      <td>0</td>\n",
       "      <td>4.542834</td>\n",
       "      <td>4.198959</td>\n",
       "      <td>0.259701</td>\n",
       "      <td>66.616936</td>\n",
       "      <td>01:47</td>\n",
       "    </tr>\n",
       "    <tr>\n",
       "      <td>1</td>\n",
       "      <td>4.306219</td>\n",
       "      <td>4.029896</td>\n",
       "      <td>0.271804</td>\n",
       "      <td>56.255047</td>\n",
       "      <td>01:46</td>\n",
       "    </tr>\n",
       "    <tr>\n",
       "      <td>2</td>\n",
       "      <td>4.242209</td>\n",
       "      <td>3.988303</td>\n",
       "      <td>0.274875</td>\n",
       "      <td>53.963245</td>\n",
       "      <td>01:46</td>\n",
       "    </tr>\n",
       "    <tr>\n",
       "      <td>3</td>\n",
       "      <td>4.222728</td>\n",
       "      <td>3.982563</td>\n",
       "      <td>0.275352</td>\n",
       "      <td>53.654400</td>\n",
       "      <td>01:46</td>\n",
       "    </tr>\n",
       "  </tbody>\n",
       "</table>"
      ],
      "text/plain": [
       "<IPython.core.display.HTML object>"
      ]
     },
     "metadata": {},
     "output_type": "display_data"
    }
   ],
   "source": [
    "learn.fit_one_cycle(4)"
   ]
  },
  {
   "cell_type": "markdown",
   "id": "76680eeb",
   "metadata": {},
   "source": [
    "## Inference\n",
    "\n",
    "We can use our model to generate text based on an initial sentence."
   ]
  },
  {
   "cell_type": "code",
   "execution_count": 21,
   "id": "e01cabd9",
   "metadata": {
    "ExecuteTime": {
     "end_time": "2023-12-10T14:16:16.052752Z",
     "start_time": "2023-12-10T14:16:16.050962Z"
    }
   },
   "outputs": [],
   "source": [
    "initial_text = \"This restaurant is great because\"\n",
    "words = 40 "
   ]
  },
  {
   "cell_type": "code",
   "execution_count": 22,
   "id": "b7e3c903",
   "metadata": {
    "ExecuteTime": {
     "end_time": "2023-12-10T14:16:16.660942Z",
     "start_time": "2023-12-10T14:16:16.425780Z"
    }
   },
   "outputs": [
    {
     "data": {
      "text/html": [],
      "text/plain": [
       "<IPython.core.display.HTML object>"
      ]
     },
     "metadata": {},
     "output_type": "display_data"
    },
    {
     "data": {
      "text/plain": [
       "'This restaurant is great because of the variety of it available . The Yonge Street Hotel is a nice and efficient location , but the hotel is a great place to watch the night . It has a patio and'"
      ]
     },
     "execution_count": 22,
     "metadata": {},
     "output_type": "execute_result"
    }
   ],
   "source": [
    "learn.predict(initial_text, words, temperature=0.75)"
   ]
  },
  {
   "cell_type": "code",
   "execution_count": 23,
   "id": "79546949",
   "metadata": {
    "ExecuteTime": {
     "end_time": "2023-12-10T14:16:16.954289Z",
     "start_time": "2023-12-10T14:16:16.747849Z"
    }
   },
   "outputs": [
    {
     "data": {
      "text/html": [],
      "text/plain": [
       "<IPython.core.display.HTML object>"
      ]
     },
     "metadata": {},
     "output_type": "display_data"
    },
    {
     "data": {
      "text/plain": [
       "'This restaurant is great because the staff at Tower Palace is gentle , when the food is delicious and the menu is simple and tasty . The menu is always fresh and tasty , and the service is good . To'"
      ]
     },
     "execution_count": 23,
     "metadata": {},
     "output_type": "execute_result"
    }
   ],
   "source": [
    "learn.predict(initial_text, words, temperature=0.75)"
   ]
  },
  {
   "cell_type": "code",
   "execution_count": 24,
   "id": "afaade0e",
   "metadata": {
    "ExecuteTime": {
     "end_time": "2023-12-10T14:16:17.347734Z",
     "start_time": "2023-12-10T14:16:17.138804Z"
    }
   },
   "outputs": [
    {
     "data": {
      "text/html": [],
      "text/plain": [
       "<IPython.core.display.HTML object>"
      ]
     },
     "metadata": {},
     "output_type": "display_data"
    },
    {
     "data": {
      "text/plain": [
       "'This restaurant is great because it is not a Chipotle . The staff is very friendly and friendly , and there is a nice atmosphere and friendly staff . Lots of coffee in the area . Their staff is very friendly'"
      ]
     },
     "execution_count": 24,
     "metadata": {},
     "output_type": "execute_result"
    }
   ],
   "source": [
    "learn.predict(initial_text, words, temperature=0.75)"
   ]
  },
  {
   "cell_type": "code",
   "execution_count": 25,
   "id": "dc393fad",
   "metadata": {
    "ExecuteTime": {
     "end_time": "2023-12-10T14:16:17.615193Z",
     "start_time": "2023-12-10T14:16:17.408763Z"
    }
   },
   "outputs": [
    {
     "data": {
      "text/html": [],
      "text/plain": [
       "<IPython.core.display.HTML object>"
      ]
     },
     "metadata": {},
     "output_type": "display_data"
    },
    {
     "data": {
      "text/plain": [
       "'This restaurant is great because it gets a great place to visit . There is a huge selection of tennis courts in the United States . This place is very good and also has a nice touch with the Indian'"
      ]
     },
     "execution_count": 25,
     "metadata": {},
     "output_type": "execute_result"
    }
   ],
   "source": [
    "learn.predict(initial_text, words, temperature=0.75)"
   ]
  },
  {
   "cell_type": "code",
   "execution_count": 26,
   "id": "b944a583",
   "metadata": {
    "ExecuteTime": {
     "end_time": "2023-12-10T14:16:18.792855Z",
     "start_time": "2023-12-10T14:16:18.584989Z"
    }
   },
   "outputs": [
    {
     "data": {
      "text/html": [],
      "text/plain": [
       "<IPython.core.display.HTML object>"
      ]
     },
     "metadata": {},
     "output_type": "display_data"
    },
    {
     "data": {
      "text/plain": [
       "'This restaurant is great because of the fact that the French Toast is a great place to go back to the French Toast . The French toast is a great place to eat . The French toast'"
      ]
     },
     "execution_count": 26,
     "metadata": {},
     "output_type": "execute_result"
    }
   ],
   "source": [
    "learn.predict(initial_text, words, temperature=0.25)"
   ]
  },
  {
   "cell_type": "code",
   "execution_count": null,
   "id": "c654d28e",
   "metadata": {},
   "outputs": [],
   "source": []
  }
 ],
 "metadata": {
  "kernelspec": {
   "display_name": "Python 3",
   "language": "python",
   "name": "python3"
  },
  "language_info": {
   "codemirror_mode": {
    "name": "ipython",
    "version": 3
   },
   "file_extension": ".py",
   "mimetype": "text/x-python",
   "name": "python",
   "nbconvert_exporter": "python",
   "pygments_lexer": "ipython3",
   "version": "3.8.10"
  },
  "toc": {
   "base_numbering": 1,
   "nav_menu": {},
   "number_sections": false,
   "sideBar": true,
   "skip_h1_title": false,
   "title_cell": "Table of Contents",
   "title_sidebar": "Contents",
   "toc_cell": false,
   "toc_position": {},
   "toc_section_display": true,
   "toc_window_display": false
  }
 },
 "nbformat": 4,
 "nbformat_minor": 5
}
