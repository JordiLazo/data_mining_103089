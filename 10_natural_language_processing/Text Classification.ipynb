{
 "cells": [
  {
   "cell_type": "code",
   "execution_count": 1,
   "id": "7b1f500f",
   "metadata": {
    "ExecuteTime": {
     "end_time": "2023-12-10T13:14:39.455898Z",
     "start_time": "2023-12-10T13:14:38.850544Z"
    }
   },
   "outputs": [
    {
     "name": "stdout",
     "output_type": "stream",
     "text": [
      "Sun Dec 10 13:14:39 2023       \r\n",
      "+---------------------------------------------------------------------------------------+\r\n",
      "| NVIDIA-SMI 535.54.03              Driver Version: 535.54.03    CUDA Version: 12.2     |\r\n",
      "|-----------------------------------------+----------------------+----------------------+\r\n",
      "| GPU  Name                 Persistence-M | Bus-Id        Disp.A | Volatile Uncorr. ECC |\r\n",
      "| Fan  Temp   Perf          Pwr:Usage/Cap |         Memory-Usage | GPU-Util  Compute M. |\r\n",
      "|                                         |                      |               MIG M. |\r\n",
      "|=========================================+======================+======================|\r\n",
      "|   0  NVIDIA GeForce RTX 4080        Off | 00000000:01:00.0 Off |                  N/A |\r\n",
      "|  0%   32C    P8               6W / 320W |      1MiB / 16376MiB |      0%      Default |\r\n",
      "|                                         |                      |                  N/A |\r\n",
      "+-----------------------------------------+----------------------+----------------------+\r\n",
      "|   1  NVIDIA GeForce RTX 4080        Off | 00000000:03:00.0 Off |                  N/A |\r\n",
      "|  0%   36C    P8              10W / 320W |      1MiB / 16376MiB |      0%      Default |\r\n",
      "|                                         |                      |                  N/A |\r\n",
      "+-----------------------------------------+----------------------+----------------------+\r\n",
      "                                                                                         \r\n",
      "+---------------------------------------------------------------------------------------+\r\n",
      "| Processes:                                                                            |\r\n",
      "|  GPU   GI   CI        PID   Type   Process name                            GPU Memory |\r\n",
      "|        ID   ID                                                             Usage      |\r\n",
      "|=======================================================================================|\r\n",
      "|  No running processes found                                                           |\r\n",
      "+---------------------------------------------------------------------------------------+\r\n"
     ]
    }
   ],
   "source": [
    "!nvidia-smi"
   ]
  },
  {
   "cell_type": "markdown",
   "id": "5ee50aba",
   "metadata": {},
   "source": [
    "## Dataloading\n",
    "\n",
    "We load fastai text library. "
   ]
  },
  {
   "cell_type": "code",
   "execution_count": 23,
   "id": "0315b123",
   "metadata": {
    "ExecuteTime": {
     "end_time": "2023-12-10T13:25:28.120213Z",
     "start_time": "2023-12-10T13:25:28.118494Z"
    }
   },
   "outputs": [],
   "source": [
    "from fastai.text.all import *"
   ]
  },
  {
   "cell_type": "markdown",
   "id": "55e6d9e2",
   "metadata": {},
   "source": [
    "The dataset we are going to use is stored in .tgz format in a private server. The organization, for untar_data to work has to be:\n",
    "\n",
    "~~~\n",
    "<namedataset>/<files>\n",
    "~~~\n",
    "    \n",
    "Compressed then as \\<namedataset.tgz\\>."
   ]
  },
  {
   "cell_type": "code",
   "execution_count": 3,
   "id": "4efb9509",
   "metadata": {
    "ExecuteTime": {
     "end_time": "2023-12-10T13:14:40.996281Z",
     "start_time": "2023-12-10T13:14:40.994311Z"
    }
   },
   "outputs": [],
   "source": [
    "path = untar_data(\"http://codeandbeer.org/mydata/IMDBDataset.tgz\")"
   ]
  },
  {
   "cell_type": "markdown",
   "id": "75f08cd6",
   "metadata": {},
   "source": [
    "We only have one CSV file with the reviews."
   ]
  },
  {
   "cell_type": "code",
   "execution_count": 24,
   "id": "dcbe223a",
   "metadata": {
    "ExecuteTime": {
     "end_time": "2023-12-10T13:25:28.125356Z",
     "start_time": "2023-12-10T13:25:28.120937Z"
    },
    "scrolled": true
   },
   "outputs": [
    {
     "data": {
      "text/plain": [
       "(#1) [Path('/root/.fastai/data/IMDBDataset/IMDBDataset.csv')]"
      ]
     },
     "execution_count": 24,
     "metadata": {},
     "output_type": "execute_result"
    }
   ],
   "source": [
    "path.ls()"
   ]
  },
  {
   "cell_type": "code",
   "execution_count": 25,
   "id": "46e96ae3",
   "metadata": {
    "ExecuteTime": {
     "end_time": "2023-12-10T13:25:28.129467Z",
     "start_time": "2023-12-10T13:25:28.126064Z"
    }
   },
   "outputs": [],
   "source": [
    "import pandas as pd"
   ]
  },
  {
   "cell_type": "markdown",
   "id": "f860d982",
   "metadata": {},
   "source": [
    "We load it using pandas."
   ]
  },
  {
   "cell_type": "code",
   "execution_count": 6,
   "id": "2ac15a75",
   "metadata": {
    "ExecuteTime": {
     "end_time": "2023-12-10T13:14:41.335250Z",
     "start_time": "2023-12-10T13:14:41.014573Z"
    }
   },
   "outputs": [],
   "source": [
    "df = pd.read_csv(path/\"IMDBDataset.csv\")\n"
   ]
  },
  {
   "cell_type": "code",
   "execution_count": 7,
   "id": "a9ace4b7",
   "metadata": {
    "ExecuteTime": {
     "end_time": "2023-12-10T13:14:41.343190Z",
     "start_time": "2023-12-10T13:14:41.336733Z"
    }
   },
   "outputs": [
    {
     "data": {
      "text/html": [
       "<div>\n",
       "<style scoped>\n",
       "    .dataframe tbody tr th:only-of-type {\n",
       "        vertical-align: middle;\n",
       "    }\n",
       "\n",
       "    .dataframe tbody tr th {\n",
       "        vertical-align: top;\n",
       "    }\n",
       "\n",
       "    .dataframe thead th {\n",
       "        text-align: right;\n",
       "    }\n",
       "</style>\n",
       "<table border=\"1\" class=\"dataframe\">\n",
       "  <thead>\n",
       "    <tr style=\"text-align: right;\">\n",
       "      <th></th>\n",
       "      <th>review</th>\n",
       "      <th>sentiment</th>\n",
       "    </tr>\n",
       "  </thead>\n",
       "  <tbody>\n",
       "    <tr>\n",
       "      <th>0</th>\n",
       "      <td>One of the other reviewers has mentioned that after watching just 1 Oz episode you'll be hooked. They are right, as this is exactly what happened with me.&lt;br /&gt;&lt;br /&gt;The first thing that struck me about Oz was its brutality and unflinching scenes of violence, which set in right from the word GO. Trust me, this is not a show for the faint hearted or timid. This show pulls no punches with regards to drugs, sex or violence. Its is hardcore, in the classic use of the word.&lt;br /&gt;&lt;br /&gt;It is called OZ as that is the nickname given to the Oswald Maximum Security State Penitentary. It focuses main...</td>\n",
       "      <td>positive</td>\n",
       "    </tr>\n",
       "    <tr>\n",
       "      <th>1</th>\n",
       "      <td>A wonderful little production. &lt;br /&gt;&lt;br /&gt;The filming technique is very unassuming- very old-time-BBC fashion and gives a comforting, and sometimes discomforting, sense of realism to the entire piece. &lt;br /&gt;&lt;br /&gt;The actors are extremely well chosen- Michael Sheen not only \"has got all the polari\" but he has all the voices down pat too! You can truly see the seamless editing guided by the references to Williams' diary entries, not only is it well worth the watching but it is a terrificly written and performed piece. A masterful production about one of the great master's of comedy and his ...</td>\n",
       "      <td>positive</td>\n",
       "    </tr>\n",
       "    <tr>\n",
       "      <th>2</th>\n",
       "      <td>I thought this was a wonderful way to spend time on a too hot summer weekend, sitting in the air conditioned theater and watching a light-hearted comedy. The plot is simplistic, but the dialogue is witty and the characters are likable (even the well bread suspected serial killer). While some may be disappointed when they realize this is not Match Point 2: Risk Addiction, I thought it was proof that Woody Allen is still fully in control of the style many of us have grown to love.&lt;br /&gt;&lt;br /&gt;This was the most I'd laughed at one of Woody's comedies in years (dare I say a decade?). While I've ...</td>\n",
       "      <td>positive</td>\n",
       "    </tr>\n",
       "    <tr>\n",
       "      <th>3</th>\n",
       "      <td>Basically there's a family where a little boy (Jake) thinks there's a zombie in his closet &amp; his parents are fighting all the time.&lt;br /&gt;&lt;br /&gt;This movie is slower than a soap opera... and suddenly, Jake decides to become Rambo and kill the zombie.&lt;br /&gt;&lt;br /&gt;OK, first of all when you're going to make a film you must Decide if its a thriller or a drama! As a drama the movie is watchable. Parents are divorcing &amp; arguing like in real life. And then we have Jake with his closet which totally ruins all the film! I expected to see a BOOGEYMAN similar movie, and instead i watched a drama with so...</td>\n",
       "      <td>negative</td>\n",
       "    </tr>\n",
       "    <tr>\n",
       "      <th>4</th>\n",
       "      <td>Petter Mattei's \"Love in the Time of Money\" is a visually stunning film to watch. Mr. Mattei offers us a vivid portrait about human relations. This is a movie that seems to be telling us what money, power and success do to people in the different situations we encounter. &lt;br /&gt;&lt;br /&gt;This being a variation on the Arthur Schnitzler's play about the same theme, the director transfers the action to the present time New York where all these different characters meet and connect. Each one is connected in one way, or another to the next person, but no one seems to know the previous point of conta...</td>\n",
       "      <td>positive</td>\n",
       "    </tr>\n",
       "    <tr>\n",
       "      <th>...</th>\n",
       "      <td>...</td>\n",
       "      <td>...</td>\n",
       "    </tr>\n",
       "    <tr>\n",
       "      <th>49995</th>\n",
       "      <td>I thought this movie did a down right good job. It wasn't as creative or original as the first, but who was expecting it to be. It was a whole lotta fun. the more i think about it the more i like it, and when it comes out on DVD I'm going to pay the money for it very proudly, every last cent. Sharon Stone is great, she always is, even if her movie is horrible(Catwoman), but this movie isn't, this is one of those movies that will be underrated for its lifetime, and it will probably become a classic in like 20 yrs. Don't wait for it to be a classic, watch it now and enjoy it. Don't expect a ...</td>\n",
       "      <td>positive</td>\n",
       "    </tr>\n",
       "    <tr>\n",
       "      <th>49996</th>\n",
       "      <td>Bad plot, bad dialogue, bad acting, idiotic directing, the annoying porn groove soundtrack that ran continually over the overacted script, and a crappy copy of the VHS cannot be redeemed by consuming liquor. Trust me, because I stuck this turkey out to the end. It was so pathetically bad all over that I had to figure it was a fourth-rate spoof of Springtime for Hitler.&lt;br /&gt;&lt;br /&gt;The girl who played Janis Joplin was the only faint spark of interest, and that was only because she could sing better than the original.&lt;br /&gt;&lt;br /&gt;If you want to watch something similar but a thousand times bett...</td>\n",
       "      <td>negative</td>\n",
       "    </tr>\n",
       "    <tr>\n",
       "      <th>49997</th>\n",
       "      <td>I am a Catholic taught in parochial elementary schools by nuns, taught by Jesuit priests in high school &amp; college. I am still a practicing Catholic but would not be considered a \"good Catholic\" in the church's eyes because I don't believe certain things or act certain ways just because the church tells me to.&lt;br /&gt;&lt;br /&gt;So back to the movie...its bad because two people are killed by this nun who is supposed to be a satire as the embodiment of a female religious figurehead. There is no comedy in that and the satire is not done well by the over acting of Diane Keaton. I never saw the play bu...</td>\n",
       "      <td>negative</td>\n",
       "    </tr>\n",
       "    <tr>\n",
       "      <th>49998</th>\n",
       "      <td>I'm going to have to disagree with the previous comment and side with Maltin on this one. This is a second rate, excessively vicious Western that creaks and groans trying to put across its central theme of the Wild West being tamed and kicked aside by the steady march of time. It would like to be in the tradition of \"Butch Cassidy and the Sundance Kid\", but lacks that film's poignancy and charm. Andrew McLaglen's direction is limp, and the final 30 minutes or so are a real botch, with some incomprehensible strategy on the part of heroes Charlton Heston and Chris Mitchum. (Someone give me a...</td>\n",
       "      <td>negative</td>\n",
       "    </tr>\n",
       "    <tr>\n",
       "      <th>49999</th>\n",
       "      <td>No one expects the Star Trek movies to be high art, but the fans do expect a movie that is as good as some of the best episodes. Unfortunately, this movie had a muddled, implausible plot that just left me cringing - this is by far the worst of the nine (so far) movies. Even the chance to watch the well known characters interact in another movie can't save this movie - including the goofy scenes with Kirk, Spock and McCoy at Yosemite.&lt;br /&gt;&lt;br /&gt;I would say this movie is not worth a rental, and hardly worth watching, however for the True Fan who needs to see all the movies, renting this mov...</td>\n",
       "      <td>negative</td>\n",
       "    </tr>\n",
       "  </tbody>\n",
       "</table>\n",
       "<p>50000 rows × 2 columns</p>\n",
       "</div>"
      ],
      "text/plain": [
       "                                                                                                                                                                                                                                                                                                                                                                                                                                                                                                                                                                                                                        review  \\\n",
       "0      One of the other reviewers has mentioned that after watching just 1 Oz episode you'll be hooked. They are right, as this is exactly what happened with me.<br /><br />The first thing that struck me about Oz was its brutality and unflinching scenes of violence, which set in right from the word GO. Trust me, this is not a show for the faint hearted or timid. This show pulls no punches with regards to drugs, sex or violence. Its is hardcore, in the classic use of the word.<br /><br />It is called OZ as that is the nickname given to the Oswald Maximum Security State Penitentary. It focuses main...   \n",
       "1      A wonderful little production. <br /><br />The filming technique is very unassuming- very old-time-BBC fashion and gives a comforting, and sometimes discomforting, sense of realism to the entire piece. <br /><br />The actors are extremely well chosen- Michael Sheen not only \"has got all the polari\" but he has all the voices down pat too! You can truly see the seamless editing guided by the references to Williams' diary entries, not only is it well worth the watching but it is a terrificly written and performed piece. A masterful production about one of the great master's of comedy and his ...   \n",
       "2      I thought this was a wonderful way to spend time on a too hot summer weekend, sitting in the air conditioned theater and watching a light-hearted comedy. The plot is simplistic, but the dialogue is witty and the characters are likable (even the well bread suspected serial killer). While some may be disappointed when they realize this is not Match Point 2: Risk Addiction, I thought it was proof that Woody Allen is still fully in control of the style many of us have grown to love.<br /><br />This was the most I'd laughed at one of Woody's comedies in years (dare I say a decade?). While I've ...   \n",
       "3      Basically there's a family where a little boy (Jake) thinks there's a zombie in his closet & his parents are fighting all the time.<br /><br />This movie is slower than a soap opera... and suddenly, Jake decides to become Rambo and kill the zombie.<br /><br />OK, first of all when you're going to make a film you must Decide if its a thriller or a drama! As a drama the movie is watchable. Parents are divorcing & arguing like in real life. And then we have Jake with his closet which totally ruins all the film! I expected to see a BOOGEYMAN similar movie, and instead i watched a drama with so...   \n",
       "4      Petter Mattei's \"Love in the Time of Money\" is a visually stunning film to watch. Mr. Mattei offers us a vivid portrait about human relations. This is a movie that seems to be telling us what money, power and success do to people in the different situations we encounter. <br /><br />This being a variation on the Arthur Schnitzler's play about the same theme, the director transfers the action to the present time New York where all these different characters meet and connect. Each one is connected in one way, or another to the next person, but no one seems to know the previous point of conta...   \n",
       "...                                                                                                                                                                                                                                                                                                                                                                                                                                                                                                                                                                                                                        ...   \n",
       "49995  I thought this movie did a down right good job. It wasn't as creative or original as the first, but who was expecting it to be. It was a whole lotta fun. the more i think about it the more i like it, and when it comes out on DVD I'm going to pay the money for it very proudly, every last cent. Sharon Stone is great, she always is, even if her movie is horrible(Catwoman), but this movie isn't, this is one of those movies that will be underrated for its lifetime, and it will probably become a classic in like 20 yrs. Don't wait for it to be a classic, watch it now and enjoy it. Don't expect a ...   \n",
       "49996  Bad plot, bad dialogue, bad acting, idiotic directing, the annoying porn groove soundtrack that ran continually over the overacted script, and a crappy copy of the VHS cannot be redeemed by consuming liquor. Trust me, because I stuck this turkey out to the end. It was so pathetically bad all over that I had to figure it was a fourth-rate spoof of Springtime for Hitler.<br /><br />The girl who played Janis Joplin was the only faint spark of interest, and that was only because she could sing better than the original.<br /><br />If you want to watch something similar but a thousand times bett...   \n",
       "49997  I am a Catholic taught in parochial elementary schools by nuns, taught by Jesuit priests in high school & college. I am still a practicing Catholic but would not be considered a \"good Catholic\" in the church's eyes because I don't believe certain things or act certain ways just because the church tells me to.<br /><br />So back to the movie...its bad because two people are killed by this nun who is supposed to be a satire as the embodiment of a female religious figurehead. There is no comedy in that and the satire is not done well by the over acting of Diane Keaton. I never saw the play bu...   \n",
       "49998  I'm going to have to disagree with the previous comment and side with Maltin on this one. This is a second rate, excessively vicious Western that creaks and groans trying to put across its central theme of the Wild West being tamed and kicked aside by the steady march of time. It would like to be in the tradition of \"Butch Cassidy and the Sundance Kid\", but lacks that film's poignancy and charm. Andrew McLaglen's direction is limp, and the final 30 minutes or so are a real botch, with some incomprehensible strategy on the part of heroes Charlton Heston and Chris Mitchum. (Someone give me a...   \n",
       "49999  No one expects the Star Trek movies to be high art, but the fans do expect a movie that is as good as some of the best episodes. Unfortunately, this movie had a muddled, implausible plot that just left me cringing - this is by far the worst of the nine (so far) movies. Even the chance to watch the well known characters interact in another movie can't save this movie - including the goofy scenes with Kirk, Spock and McCoy at Yosemite.<br /><br />I would say this movie is not worth a rental, and hardly worth watching, however for the True Fan who needs to see all the movies, renting this mov...   \n",
       "\n",
       "      sentiment  \n",
       "0      positive  \n",
       "1      positive  \n",
       "2      positive  \n",
       "3      negative  \n",
       "4      positive  \n",
       "...         ...  \n",
       "49995  positive  \n",
       "49996  negative  \n",
       "49997  negative  \n",
       "49998  negative  \n",
       "49999  negative  \n",
       "\n",
       "[50000 rows x 2 columns]"
      ]
     },
     "execution_count": 7,
     "metadata": {},
     "output_type": "execute_result"
    }
   ],
   "source": [
    "df"
   ]
  },
  {
   "cell_type": "markdown",
   "id": "56c68fc2",
   "metadata": {},
   "source": [
    "## Train/valid split"
   ]
  },
  {
   "cell_type": "markdown",
   "id": "497d130e",
   "metadata": {},
   "source": [
    "We add a column to decide if that entry is part of the validation set or not, we split by 80/20 %"
   ]
  },
  {
   "cell_type": "code",
   "execution_count": 26,
   "id": "4fce0547",
   "metadata": {
    "ExecuteTime": {
     "end_time": "2023-12-10T13:25:28.134807Z",
     "start_time": "2023-12-10T13:25:28.130179Z"
    }
   },
   "outputs": [],
   "source": [
    "df['is_valid'] = df.index >= len(df) * 0.8"
   ]
  },
  {
   "cell_type": "code",
   "execution_count": 9,
   "id": "711268d3",
   "metadata": {
    "ExecuteTime": {
     "end_time": "2023-12-10T13:14:41.358294Z",
     "start_time": "2023-12-10T13:14:41.348288Z"
    }
   },
   "outputs": [
    {
     "data": {
      "text/html": [
       "<div>\n",
       "<style scoped>\n",
       "    .dataframe tbody tr th:only-of-type {\n",
       "        vertical-align: middle;\n",
       "    }\n",
       "\n",
       "    .dataframe tbody tr th {\n",
       "        vertical-align: top;\n",
       "    }\n",
       "\n",
       "    .dataframe thead th {\n",
       "        text-align: right;\n",
       "    }\n",
       "</style>\n",
       "<table border=\"1\" class=\"dataframe\">\n",
       "  <thead>\n",
       "    <tr style=\"text-align: right;\">\n",
       "      <th></th>\n",
       "      <th>review</th>\n",
       "      <th>sentiment</th>\n",
       "      <th>is_valid</th>\n",
       "    </tr>\n",
       "  </thead>\n",
       "  <tbody>\n",
       "    <tr>\n",
       "      <th>40005</th>\n",
       "      <td>Hickory Dickory Dock was a good Poirot mystery. I confess I have not read the book, despite being an avid Agatha Christie fan. The adaptation isn't without its problems, there were times when the humour, and there were valiant attempts to get it right, was a little overdone, and the events leading up to the final solution were rather rushed. I also thought there were some slow moments so some of the mystery felt padded. However, I loved how Hickory Dickory Dock was filmed, it had a very similar visual style to the brilliant ABC Murders, and it really set the atmosphere, what with the dark ...</td>\n",
       "      <td>positive</td>\n",
       "      <td>True</td>\n",
       "    </tr>\n",
       "    <tr>\n",
       "      <th>40006</th>\n",
       "      <td>\"One Crazy Summer\" is the funniest, craziest (not necessarily the best), movie I have ever seen.&lt;br /&gt;&lt;br /&gt;Just when one crazy scene is done, another emerges. It never lets you rest. Just one thing after another. The soundtrack is great. The songs are the right ones for the scenes.&lt;br /&gt;&lt;br /&gt;It is also a clean movie. Little that is dirty in it.&lt;br /&gt;&lt;br /&gt;Of course, it has the story of the guys you wouldn't trust with your lunch money, taking up a challenge, and winning over people with more resources. Who'd want to see it if they failed? There is a serious side, in that parents and chil...</td>\n",
       "      <td>positive</td>\n",
       "      <td>True</td>\n",
       "    </tr>\n",
       "    <tr>\n",
       "      <th>40010</th>\n",
       "      <td>\"Mr. Bug Goes To Town\" was the last major achievement the Fleischer studios produced. The quality of the Superman series produced at the same time is evident in this extraordinary film.&lt;br /&gt;&lt;br /&gt;The music and lyrics by Frank Loesser and Hoagy Carmichael (with assistance by Flieshcer veteran Sammy Timberg are quite good, but not as much as the scoring of the picture by Leigh Harline who also scored Snow White for Disney. Harline's \"atmospheric music\" is superb, and a treat for the ears.&lt;br /&gt;&lt;br /&gt;The layout and staging of the picture was years ahead of it's time, and once again the Fleis...</td>\n",
       "      <td>positive</td>\n",
       "      <td>True</td>\n",
       "    </tr>\n",
       "    <tr>\n",
       "      <th>40011</th>\n",
       "      <td>This is one of my two or three favorite Stooges shorts, and undoubtedly Christine McIntyre's best performance with the trio. She is good in a number of other shorts, but here she is absolutely brilliant. Her singing is not funny at all, in fact it is downright beautiful, but the plot is constructed in such a way that the singing enhances the humor rather than detracting from it. We listen to McIntyre sing the entirety of Voice of Spring no less than three times, but it never gets old, partly because we don't tire of her voice, and partly because it blends so well with the Stooges' antics. ...</td>\n",
       "      <td>positive</td>\n",
       "      <td>True</td>\n",
       "    </tr>\n",
       "    <tr>\n",
       "      <th>40013</th>\n",
       "      <td>Of all the British imperialist movies like Four Feathers, Charge of the Light Brigade for example, this movie stands out as the cream of the crop. It reflects a time when \"the sun never set on the British Empire.\" Get over it. I won't go into why because so many others have expressed the many reasons that makes this film great. I have visited the Alabama Hills and have photographed the pass through which the British marched and it remains as it was, unchanged by time and encroachment by man and vandals. And even though I know it's coming, seeing Din lying dead on a stretcher and when these...</td>\n",
       "      <td>positive</td>\n",
       "      <td>True</td>\n",
       "    </tr>\n",
       "    <tr>\n",
       "      <th>...</th>\n",
       "      <td>...</td>\n",
       "      <td>...</td>\n",
       "      <td>...</td>\n",
       "    </tr>\n",
       "    <tr>\n",
       "      <th>49983</th>\n",
       "      <td>I loved it, having been a fan of the original series, I have always wondered what the back story would be - it didn't fail to delight me. I also love the fact that apart from Eric Stoltz I didn't recognise one person - this is refreshing, much like BSG. It has introduced me to a whole wealth of new talent - can't wait for the series to start airing. Well done to Ronald D. Moore and team - excellent job. The special effects, dialogue and acting were all spot on, and I felt emotionally tied up in the storyline. I know there are purists out there that will probably disagree with my assessment...</td>\n",
       "      <td>positive</td>\n",
       "      <td>True</td>\n",
       "    </tr>\n",
       "    <tr>\n",
       "      <th>49985</th>\n",
       "      <td>Imaginary Heroes is clearly the best film of the year. It was a complete and utter joy to watch. I was riveted. The whole audience up at the Sunset Five was riveted, when the film ended no one moved, spoke, nothing. I think this film is a perfect example of the of the power that drama has. Especially in so much as it sets an example of the quality of drama/ work of this younger generation. &lt;br /&gt;&lt;br /&gt;There were moments in your film, many, like at least seven, where I was struck by such a great amount of beauty, emotional beauty, that I actually couldn't breathe for a while. And for a cath...</td>\n",
       "      <td>positive</td>\n",
       "      <td>True</td>\n",
       "    </tr>\n",
       "    <tr>\n",
       "      <th>49989</th>\n",
       "      <td>I got this one a few weeks ago and love it! It's modern, light but filled with true complexities of life. It questions and answers, just like other Eytan Fox movies. This is my favorite, along with Jossi &amp; Jagger. This pictures a lot more, universally, than only the bubbles we may live in. You don't need to be Jewish or homosexual to enjoy this - I'm not, but the movie goes directly to my top ten movies. At first it seems like pure entertainment but it does make you think further. Relationships we have to live with are superficial, meaningful, deep, fatal, you name it. You don't know what'...</td>\n",
       "      <td>positive</td>\n",
       "      <td>True</td>\n",
       "    </tr>\n",
       "    <tr>\n",
       "      <th>49992</th>\n",
       "      <td>John Garfield plays a Marine who is blinded by a grenade while fighting on Guadalcanal and who has to learn to live with his disability. He has all the stereotypical notions about blindness, and is sure he'll be a burden to everyone. The hospital staff and his fellow wounded Marines can't get through to him. Neither can his girl back home played by Eleanor Parker. He's stubborn and blinded by his own fears, self pity, and prejudices. It's a complex role that Garfield carries off memorably in a great performance that keeps one watching in spite of the ever present syrupy melodrama. The best...</td>\n",
       "      <td>positive</td>\n",
       "      <td>True</td>\n",
       "    </tr>\n",
       "    <tr>\n",
       "      <th>49995</th>\n",
       "      <td>I thought this movie did a down right good job. It wasn't as creative or original as the first, but who was expecting it to be. It was a whole lotta fun. the more i think about it the more i like it, and when it comes out on DVD I'm going to pay the money for it very proudly, every last cent. Sharon Stone is great, she always is, even if her movie is horrible(Catwoman), but this movie isn't, this is one of those movies that will be underrated for its lifetime, and it will probably become a classic in like 20 yrs. Don't wait for it to be a classic, watch it now and enjoy it. Don't expect a ...</td>\n",
       "      <td>positive</td>\n",
       "      <td>True</td>\n",
       "    </tr>\n",
       "  </tbody>\n",
       "</table>\n",
       "<p>5007 rows × 3 columns</p>\n",
       "</div>"
      ],
      "text/plain": [
       "                                                                                                                                                                                                                                                                                                                                                                                                                                                                                                                                                                                                                        review  \\\n",
       "40005  Hickory Dickory Dock was a good Poirot mystery. I confess I have not read the book, despite being an avid Agatha Christie fan. The adaptation isn't without its problems, there were times when the humour, and there were valiant attempts to get it right, was a little overdone, and the events leading up to the final solution were rather rushed. I also thought there were some slow moments so some of the mystery felt padded. However, I loved how Hickory Dickory Dock was filmed, it had a very similar visual style to the brilliant ABC Murders, and it really set the atmosphere, what with the dark ...   \n",
       "40006  \"One Crazy Summer\" is the funniest, craziest (not necessarily the best), movie I have ever seen.<br /><br />Just when one crazy scene is done, another emerges. It never lets you rest. Just one thing after another. The soundtrack is great. The songs are the right ones for the scenes.<br /><br />It is also a clean movie. Little that is dirty in it.<br /><br />Of course, it has the story of the guys you wouldn't trust with your lunch money, taking up a challenge, and winning over people with more resources. Who'd want to see it if they failed? There is a serious side, in that parents and chil...   \n",
       "40010  \"Mr. Bug Goes To Town\" was the last major achievement the Fleischer studios produced. The quality of the Superman series produced at the same time is evident in this extraordinary film.<br /><br />The music and lyrics by Frank Loesser and Hoagy Carmichael (with assistance by Flieshcer veteran Sammy Timberg are quite good, but not as much as the scoring of the picture by Leigh Harline who also scored Snow White for Disney. Harline's \"atmospheric music\" is superb, and a treat for the ears.<br /><br />The layout and staging of the picture was years ahead of it's time, and once again the Fleis...   \n",
       "40011  This is one of my two or three favorite Stooges shorts, and undoubtedly Christine McIntyre's best performance with the trio. She is good in a number of other shorts, but here she is absolutely brilliant. Her singing is not funny at all, in fact it is downright beautiful, but the plot is constructed in such a way that the singing enhances the humor rather than detracting from it. We listen to McIntyre sing the entirety of Voice of Spring no less than three times, but it never gets old, partly because we don't tire of her voice, and partly because it blends so well with the Stooges' antics. ...   \n",
       "40013  Of all the British imperialist movies like Four Feathers, Charge of the Light Brigade for example, this movie stands out as the cream of the crop. It reflects a time when \"the sun never set on the British Empire.\" Get over it. I won't go into why because so many others have expressed the many reasons that makes this film great. I have visited the Alabama Hills and have photographed the pass through which the British marched and it remains as it was, unchanged by time and encroachment by man and vandals. And even though I know it's coming, seeing Din lying dead on a stretcher and when these...   \n",
       "...                                                                                                                                                                                                                                                                                                                                                                                                                                                                                                                                                                                                                        ...   \n",
       "49983  I loved it, having been a fan of the original series, I have always wondered what the back story would be - it didn't fail to delight me. I also love the fact that apart from Eric Stoltz I didn't recognise one person - this is refreshing, much like BSG. It has introduced me to a whole wealth of new talent - can't wait for the series to start airing. Well done to Ronald D. Moore and team - excellent job. The special effects, dialogue and acting were all spot on, and I felt emotionally tied up in the storyline. I know there are purists out there that will probably disagree with my assessment...   \n",
       "49985  Imaginary Heroes is clearly the best film of the year. It was a complete and utter joy to watch. I was riveted. The whole audience up at the Sunset Five was riveted, when the film ended no one moved, spoke, nothing. I think this film is a perfect example of the of the power that drama has. Especially in so much as it sets an example of the quality of drama/ work of this younger generation. <br /><br />There were moments in your film, many, like at least seven, where I was struck by such a great amount of beauty, emotional beauty, that I actually couldn't breathe for a while. And for a cath...   \n",
       "49989  I got this one a few weeks ago and love it! It's modern, light but filled with true complexities of life. It questions and answers, just like other Eytan Fox movies. This is my favorite, along with Jossi & Jagger. This pictures a lot more, universally, than only the bubbles we may live in. You don't need to be Jewish or homosexual to enjoy this - I'm not, but the movie goes directly to my top ten movies. At first it seems like pure entertainment but it does make you think further. Relationships we have to live with are superficial, meaningful, deep, fatal, you name it. You don't know what'...   \n",
       "49992  John Garfield plays a Marine who is blinded by a grenade while fighting on Guadalcanal and who has to learn to live with his disability. He has all the stereotypical notions about blindness, and is sure he'll be a burden to everyone. The hospital staff and his fellow wounded Marines can't get through to him. Neither can his girl back home played by Eleanor Parker. He's stubborn and blinded by his own fears, self pity, and prejudices. It's a complex role that Garfield carries off memorably in a great performance that keeps one watching in spite of the ever present syrupy melodrama. The best...   \n",
       "49995  I thought this movie did a down right good job. It wasn't as creative or original as the first, but who was expecting it to be. It was a whole lotta fun. the more i think about it the more i like it, and when it comes out on DVD I'm going to pay the money for it very proudly, every last cent. Sharon Stone is great, she always is, even if her movie is horrible(Catwoman), but this movie isn't, this is one of those movies that will be underrated for its lifetime, and it will probably become a classic in like 20 yrs. Don't wait for it to be a classic, watch it now and enjoy it. Don't expect a ...   \n",
       "\n",
       "      sentiment  is_valid  \n",
       "40005  positive      True  \n",
       "40006  positive      True  \n",
       "40010  positive      True  \n",
       "40011  positive      True  \n",
       "40013  positive      True  \n",
       "...         ...       ...  \n",
       "49983  positive      True  \n",
       "49985  positive      True  \n",
       "49989  positive      True  \n",
       "49992  positive      True  \n",
       "49995  positive      True  \n",
       "\n",
       "[5007 rows x 3 columns]"
      ]
     },
     "execution_count": 9,
     "metadata": {},
     "output_type": "execute_result"
    }
   ],
   "source": [
    "df.query(\"is_valid == True and sentiment == 'positive'\")"
   ]
  },
  {
   "cell_type": "markdown",
   "id": "ea2b9de2",
   "metadata": {},
   "source": [
    "## Dataloader creation\n"
   ]
  },
  {
   "cell_type": "markdown",
   "id": "e4841330",
   "metadata": {},
   "source": [
    "We create the text dataloader from a DataFrame, specifying which columns fill each role (text, label, and validation)."
   ]
  },
  {
   "cell_type": "code",
   "execution_count": 27,
   "id": "69d536bf",
   "metadata": {
    "ExecuteTime": {
     "end_time": "2023-12-10T13:27:24.120543Z",
     "start_time": "2023-12-10T13:25:28.135517Z"
    }
   },
   "outputs": [
    {
     "data": {
      "text/html": [],
      "text/plain": [
       "<IPython.core.display.HTML object>"
      ]
     },
     "metadata": {},
     "output_type": "display_data"
    },
    {
     "name": "stderr",
     "output_type": "stream",
     "text": [
      "/opt/conda/lib/python3.8/site-packages/numpy/core/_asarray.py:83: VisibleDeprecationWarning: Creating an ndarray from ragged nested sequences (which is a list-or-tuple of lists-or-tuples-or ndarrays with different lengths or shapes) is deprecated. If you meant to do this, you must specify 'dtype=object' when creating the ndarray\n",
      "  return array(a, dtype, copy=False, order=order)\n"
     ]
    }
   ],
   "source": [
    "dl = TextDataLoaders.from_df(df,\n",
    "                            text_col='review',\n",
    "                            label_col='sentiment',\n",
    "                            valid_col='is_valid')"
   ]
  },
  {
   "cell_type": "code",
   "execution_count": 11,
   "id": "ed87200a",
   "metadata": {
    "ExecuteTime": {
     "end_time": "2023-12-10T13:16:37.897884Z",
     "start_time": "2023-12-10T13:16:37.412625Z"
    }
   },
   "outputs": [
    {
     "data": {
      "text/html": [
       "<table border=\"1\" class=\"dataframe\">\n",
       "  <thead>\n",
       "    <tr style=\"text-align: right;\">\n",
       "      <th></th>\n",
       "      <th>text</th>\n",
       "      <th>category</th>\n",
       "    </tr>\n",
       "  </thead>\n",
       "  <tbody>\n",
       "    <tr>\n",
       "      <th>0</th>\n",
       "      <td>xxbos xxmaj match 1 : xxmaj tag xxmaj team xxmaj table xxmaj match xxmaj bubba xxmaj ray and xxmaj spike xxmaj dudley vs xxmaj eddie xxmaj guerrero and xxmaj chris xxmaj benoit xxmaj bubba xxmaj ray and xxmaj spike xxmaj dudley started things off with a xxmaj tag xxmaj team xxmaj table xxmaj match against xxmaj eddie xxmaj guerrero and xxmaj chris xxmaj benoit . xxmaj according to the rules of the match , both opponents have to go through tables in order to get the win . xxmaj benoit and xxmaj guerrero heated up early on by taking turns hammering first xxmaj spike and then xxmaj bubba xxmaj ray . a xxmaj german suplex by xxmaj benoit to xxmaj bubba took the wind out of the xxmaj dudley brother . xxmaj spike tried to help his brother , but the referee restrained him while xxmaj benoit and xxmaj guerrero</td>\n",
       "      <td>positive</td>\n",
       "    </tr>\n",
       "    <tr>\n",
       "      <th>1</th>\n",
       "      <td>xxbos xxmaj films belonging to the \" film noir \" genre usually contain similar elements : a \" deus ex machina \" plot twist that drives the main character headlong into bedlam , a pretty but psychotic girl , a handsome but psychotic thug , lots of money , lots of brutality , and usually a denouement in the desert . xxmaj think \" high xxmaj sierra \" or \" white xxmaj heat . \" \\n\\n xxmaj there is plenty of hard - boiled bad film noir out there . xxmaj but when film noir is good , you ca n't take your eyes off the train wreck of human lives . \\n\\n xxmaj it is this latter tradition that \" blind xxmaj spot \" belongs to . xxmaj the film follows xxmaj danny xxmaj alton , a troubled teenager ( superbly played with depth , grace , emotional integrity</td>\n",
       "      <td>positive</td>\n",
       "    </tr>\n",
       "    <tr>\n",
       "      <th>2</th>\n",
       "      <td>xxbos xxup n.b . : xxmaj spoilers within . xxmaj assigning an artistic director to an operatic production naturally and inevitably means you are going to get a piece of that director 's mind . xxmaj but directing a xxmaj wagner opera is an especially tricky task , as he was perhaps the most explicit opera composer in terms of what things should look like and how they should unfold . hans - jurgen xxmaj syberberg loads this filming of \" parsifal , \" xxmaj wagner 's final masterpiece , with enough extraneous ideas to cause it to nearly burst at the seams . xxmaj you get more than a piece of the director : you get the whole xxunk hog and then some . xxmaj syberberg is to be admired for his penchant for tearing back the covers on the uglier aspects of xxmaj german history . xxmaj but</td>\n",
       "      <td>negative</td>\n",
       "    </tr>\n",
       "    <tr>\n",
       "      <th>3</th>\n",
       "      <td>xxbos xxmaj some people drift through life , moving from one thing or one person to the next without batting an eye ; others latch on to a cause , another person or a principle and remain adamant , committed to whatever it is-- and figuratively or literally they give their word and stand by it . xxmaj but we 're all different , ` made of different clay , ' as one of the characters in this film puts it , which is what makes life so interesting . xxmaj some people are just plain crazy , xxunk and maybe that 's the way you have to be to live among the masses . xxmaj who knows ? xxmaj who knows what it takes to make xxunk life-- work ? xxmaj writer / director xxmaj lisa xxmaj krueger takes a shot at it , using a light approach to</td>\n",
       "      <td>positive</td>\n",
       "    </tr>\n",
       "    <tr>\n",
       "      <th>4</th>\n",
       "      <td>xxbos xxmaj as i expected would happen , too many reviews of this film ( from professionals and amateurs alike ) have focused as much if not more on the film 's ideology . xxmaj that 's because xxmaj the xxmaj sea xxmaj inside ( aka xxmaj mar adentro ) is a film about euthanasia . xxmaj specifically , it 's a true story about an infamous xxmaj galician named xxmaj ramón xxmaj sampedro , who fought for many years for the right to assisted suicide , who was denied that right by the xxmaj spanish constitutional court , and who -- well , i do n't want to ruin the ending of the film for you . \\n\\n xxmaj the real life xxmaj sampedro catalyzed a national debate on euthanasia in xxmaj spain . xxmaj now with producer / director / writer / composer / editor xxmaj alejandro xxmaj</td>\n",
       "      <td>positive</td>\n",
       "    </tr>\n",
       "    <tr>\n",
       "      <th>5</th>\n",
       "      <td>xxbos xxmaj it has been widely agreed that xxmaj hayao xxmaj miyazaki is a master at his craft when it comes to combining rich animation with thoughtful story lines and similarly imaginative characters . xxmaj his movies , from xxup nausicaa , xxup totoro , xxup kiki , xxup laputa , and xxup mononoke to the recent xxup howl 's xxup moving xxup castle are all not only gorgeously rendered in terms of art , but in terms of movie - making as well . xxmaj can this man do no wrong ? xxmaj not really , but it is impossible to expect everyone of his movies to always be five star marvels . xxmaj his newest film , xxup ponyo , an unashamedly family - friendly tale of a \" goldfish out of water \" , is as lushly animated and alive with interesting characters as you would expect</td>\n",
       "      <td>positive</td>\n",
       "    </tr>\n",
       "    <tr>\n",
       "      <th>6</th>\n",
       "      <td>xxbos \" oh , you pilots are such men . \" \" they do n't call it the cockpit for nothing , honey . \" xxmaj dialogue like that is just one of many reasons why xxmaj the xxmaj concorde ",
       "▁ xxmaj airport ' 79 ( or , if you saw it in the xxup uk where it dragged its heels getting released there , xxmaj airport ' 80 : xxmaj the xxmaj concorde ) was the last and by far the least of the series . xxmaj the disaster movie was in dire straits in the xxunk , what with xxmaj the xxmaj swarm having offered much unintentional hilarity and xxmaj beyond the xxmaj poseidon xxmaj adventure , xxmaj when xxmaj time xxmaj ran xxmaj out and xxmaj city on xxmaj fire simply offering much boredom , and the desperation to find a new spin on the genre is</td>\n",
       "      <td>negative</td>\n",
       "    </tr>\n",
       "    <tr>\n",
       "      <th>7</th>\n",
       "      <td>xxbos xxmaj danny xxmaj boyle was not the first person to realise that zombies can run like the xxunk . xxmaj that honour belongs to xxmaj lifeforce , which is , of course , the greatest naked space vampire zombies from xxmaj halley 's xxmaj comet running amok in xxmaj london end - of - the - world movie ever made . xxmaj tobe xxmaj hooper may have made a lot of crap , but for this deliriously demented epic sci - fi horror he deserves a place among the immortals . xxmaj plus it offers space vampire xxmaj mathilda xxmaj may , the best thing to come out of xxmaj france since xxmaj simone xxmaj simon , spending the entire movie naked . xxmaj which she does very , very well . xxmaj just bear in mind that while she is the most overwhelmingly feminine presence anyone on xxmaj</td>\n",
       "      <td>positive</td>\n",
       "    </tr>\n",
       "    <tr>\n",
       "      <th>8</th>\n",
       "      <td>xxbos xxmaj sometimes a film comes along that is unique . xxmaj the xxmaj nostril xxmaj picker is one such film , xxmaj the xxmaj nostril xxmaj picker is like no other film i have ever seen , unfortunately for xxmaj the xxmaj nostril xxmaj picker &amp; myself it 's unique for different reasons than what the filmmakers had originally intended . xxmaj read on &amp; all shall hopefully become clear … xxmaj the xxmaj nostril xxmaj picker , as it 's commonly know although it was apparently filmed under the title xxmaj the xxmaj changer , starts with some extremely dull shots of an xxmaj american town somewhere , streets &amp; factory 's that sort of thing , as the opening credits play . xxmaj when xxmaj the xxmaj nostril xxmaj picker begins proper we , the viewer that is , are introduced to a real loser named xxmaj</td>\n",
       "      <td>negative</td>\n",
       "    </tr>\n",
       "  </tbody>\n",
       "</table>"
      ],
      "text/plain": [
       "<IPython.core.display.HTML object>"
      ]
     },
     "metadata": {},
     "output_type": "display_data"
    }
   ],
   "source": [
    "dl.show_batch()"
   ]
  },
  {
   "cell_type": "markdown",
   "id": "6598c1a4",
   "metadata": {},
   "source": [
    "## Neural network creation\n",
    "\n",
    "We create our learner (neural network), starting from a LSTM model (recurrent network with decaying memory)."
   ]
  },
  {
   "cell_type": "code",
   "execution_count": 28,
   "id": "5a66eca9",
   "metadata": {
    "ExecuteTime": {
     "end_time": "2023-12-10T13:32:39.542275Z",
     "start_time": "2023-12-10T13:32:38.820630Z"
    }
   },
   "outputs": [],
   "source": [
    "learn = text_classifier_learner(dl, AWD_LSTM, drop_mult = 0.5, metrics=accuracy)"
   ]
  },
  {
   "cell_type": "code",
   "execution_count": 29,
   "id": "9d9af3bb",
   "metadata": {
    "ExecuteTime": {
     "end_time": "2023-12-10T13:32:39.578741Z",
     "start_time": "2023-12-10T13:32:39.576248Z"
    }
   },
   "outputs": [
    {
     "data": {
      "text/plain": [
       "SequentialRNN(\n",
       "  (0): SentenceEncoder(\n",
       "    (module): AWD_LSTM(\n",
       "      (encoder): Embedding(52000, 400, padding_idx=1)\n",
       "      (encoder_dp): EmbeddingDropout(\n",
       "        (emb): Embedding(52000, 400, padding_idx=1)\n",
       "      )\n",
       "      (rnns): ModuleList(\n",
       "        (0): WeightDropout(\n",
       "          (module): LSTM(400, 1152, batch_first=True)\n",
       "        )\n",
       "        (1): WeightDropout(\n",
       "          (module): LSTM(1152, 1152, batch_first=True)\n",
       "        )\n",
       "        (2): WeightDropout(\n",
       "          (module): LSTM(1152, 400, batch_first=True)\n",
       "        )\n",
       "      )\n",
       "      (input_dp): RNNDropout()\n",
       "      (hidden_dps): ModuleList(\n",
       "        (0-2): 3 x RNNDropout()\n",
       "      )\n",
       "    )\n",
       "  )\n",
       "  (1): PoolingLinearClassifier(\n",
       "    (layers): Sequential(\n",
       "      (0): LinBnDrop(\n",
       "        (0): BatchNorm1d(1200, eps=1e-05, momentum=0.1, affine=True, track_running_stats=True)\n",
       "        (1): Dropout(p=0.2, inplace=False)\n",
       "        (2): Linear(in_features=1200, out_features=50, bias=False)\n",
       "        (3): ReLU(inplace=True)\n",
       "      )\n",
       "      (1): LinBnDrop(\n",
       "        (0): BatchNorm1d(50, eps=1e-05, momentum=0.1, affine=True, track_running_stats=True)\n",
       "        (1): Dropout(p=0.1, inplace=False)\n",
       "        (2): Linear(in_features=50, out_features=2, bias=False)\n",
       "      )\n",
       "    )\n",
       "  )\n",
       ")"
      ]
     },
     "execution_count": 29,
     "metadata": {},
     "output_type": "execute_result"
    }
   ],
   "source": [
    "learn.model"
   ]
  },
  {
   "cell_type": "markdown",
   "id": "036d0436",
   "metadata": {},
   "source": [
    "## Neural Network Training\n",
    "\n",
    "We find the learning rate and we train the network"
   ]
  },
  {
   "cell_type": "code",
   "execution_count": 30,
   "id": "046c3e45",
   "metadata": {
    "ExecuteTime": {
     "end_time": "2023-12-10T13:33:19.954184Z",
     "start_time": "2023-12-10T13:33:10.718400Z"
    }
   },
   "outputs": [
    {
     "data": {
      "text/html": [],
      "text/plain": [
       "<IPython.core.display.HTML object>"
      ]
     },
     "metadata": {},
     "output_type": "display_data"
    },
    {
     "data": {
      "text/plain": [
       "SuggestedLRs(valley=0.0014454397605732083)"
      ]
     },
     "execution_count": 30,
     "metadata": {},
     "output_type": "execute_result"
    },
    {
     "data": {
      "image/png": "[encoded data removed]",
      "text/plain": [
       "<Figure size 432x288 with 1 Axes>"
      ]
     },
     "metadata": {
      "needs_background": "light"
     },
     "output_type": "display_data"
    }
   ],
   "source": [
    "learn.lr_find()"
   ]
  },
  {
   "cell_type": "code",
   "execution_count": 31,
   "id": "f8637753",
   "metadata": {
    "ExecuteTime": {
     "end_time": "2023-12-10T13:38:59.325792Z",
     "start_time": "2023-12-10T13:33:22.566233Z"
    }
   },
   "outputs": [
    {
     "data": {
      "text/html": [
       "<table border=\"1\" class=\"dataframe\">\n",
       "  <thead>\n",
       "    <tr style=\"text-align: left;\">\n",
       "      <th>epoch</th>\n",
       "      <th>train_loss</th>\n",
       "      <th>valid_loss</th>\n",
       "      <th>accuracy</th>\n",
       "      <th>time</th>\n",
       "    </tr>\n",
       "  </thead>\n",
       "  <tbody>\n",
       "    <tr>\n",
       "      <td>0</td>\n",
       "      <td>0.448923</td>\n",
       "      <td>0.382410</td>\n",
       "      <td>0.827400</td>\n",
       "      <td>01:07</td>\n",
       "    </tr>\n",
       "    <tr>\n",
       "      <td>1</td>\n",
       "      <td>0.429260</td>\n",
       "      <td>0.359951</td>\n",
       "      <td>0.840800</td>\n",
       "      <td>01:07</td>\n",
       "    </tr>\n",
       "    <tr>\n",
       "      <td>2</td>\n",
       "      <td>0.411000</td>\n",
       "      <td>0.349755</td>\n",
       "      <td>0.843800</td>\n",
       "      <td>01:07</td>\n",
       "    </tr>\n",
       "    <tr>\n",
       "      <td>3</td>\n",
       "      <td>0.404411</td>\n",
       "      <td>0.337847</td>\n",
       "      <td>0.854800</td>\n",
       "      <td>01:07</td>\n",
       "    </tr>\n",
       "    <tr>\n",
       "      <td>4</td>\n",
       "      <td>0.411831</td>\n",
       "      <td>0.335345</td>\n",
       "      <td>0.857000</td>\n",
       "      <td>01:07</td>\n",
       "    </tr>\n",
       "  </tbody>\n",
       "</table>"
      ],
      "text/plain": [
       "<IPython.core.display.HTML object>"
      ]
     },
     "metadata": {},
     "output_type": "display_data"
    }
   ],
   "source": [
    "learn.fit_one_cycle(5)"
   ]
  },
  {
   "cell_type": "markdown",
   "id": "3ffa826a",
   "metadata": {},
   "source": [
    "We freeze the neural network, training only the lowest layers (the classifier part). This can help improve accuracy while keeping the language model part intact."
   ]
  },
  {
   "cell_type": "code",
   "execution_count": 32,
   "id": "ae1b02c0",
   "metadata": {
    "ExecuteTime": {
     "end_time": "2023-12-10T13:39:07.363913Z",
     "start_time": "2023-12-10T13:39:07.361749Z"
    }
   },
   "outputs": [],
   "source": [
    "learn.freeze_to(-4)"
   ]
  },
  {
   "cell_type": "code",
   "execution_count": 33,
   "id": "80a504dd",
   "metadata": {
    "ExecuteTime": {
     "end_time": "2023-12-10T13:42:11.770979Z",
     "start_time": "2023-12-10T13:39:08.163697Z"
    }
   },
   "outputs": [
    {
     "data": {
      "text/html": [
       "<table border=\"1\" class=\"dataframe\">\n",
       "  <thead>\n",
       "    <tr style=\"text-align: left;\">\n",
       "      <th>epoch</th>\n",
       "      <th>train_loss</th>\n",
       "      <th>valid_loss</th>\n",
       "      <th>accuracy</th>\n",
       "      <th>time</th>\n",
       "    </tr>\n",
       "  </thead>\n",
       "  <tbody>\n",
       "    <tr>\n",
       "      <td>0</td>\n",
       "      <td>0.245230</td>\n",
       "      <td>0.211085</td>\n",
       "      <td>0.917500</td>\n",
       "      <td>01:31</td>\n",
       "    </tr>\n",
       "    <tr>\n",
       "      <td>1</td>\n",
       "      <td>0.168842</td>\n",
       "      <td>0.179461</td>\n",
       "      <td>0.932200</td>\n",
       "      <td>01:31</td>\n",
       "    </tr>\n",
       "  </tbody>\n",
       "</table>"
      ],
      "text/plain": [
       "<IPython.core.display.HTML object>"
      ]
     },
     "metadata": {},
     "output_type": "display_data"
    }
   ],
   "source": [
    "learn.fit_one_cycle(2)"
   ]
  },
  {
   "cell_type": "markdown",
   "id": "b4f67953",
   "metadata": {},
   "source": [
    "## Testing with comments from amazon."
   ]
  },
  {
   "cell_type": "code",
   "execution_count": 34,
   "id": "f563ccea",
   "metadata": {
    "ExecuteTime": {
     "end_time": "2023-12-10T13:42:16.589821Z",
     "start_time": "2023-12-10T13:42:16.560642Z"
    }
   },
   "outputs": [
    {
     "data": {
      "text/html": [],
      "text/plain": [
       "<IPython.core.display.HTML object>"
      ]
     },
     "metadata": {},
     "output_type": "display_data"
    },
    {
     "data": {
      "text/plain": [
       "('positive', tensor(1), tensor([0.0268, 0.9732]))"
      ]
     },
     "execution_count": 34,
     "metadata": {},
     "output_type": "execute_result"
    }
   ],
   "source": [
    "learn.predict('''This is my favorite Star Trek movie. This is my second purchase as the first one had trouble. Well I played the second cd and the same thing happened. This is not a criticism more of a question. When we get to the point where the baby is coming, the dialogue is non existent, only the music. Did anyone have this problem? I’m at a lost. Thank you ''')"
   ]
  },
  {
   "cell_type": "code",
   "execution_count": 35,
   "id": "bf5b8f46",
   "metadata": {
    "ExecuteTime": {
     "end_time": "2023-12-10T13:42:17.238431Z",
     "start_time": "2023-12-10T13:42:17.209474Z"
    }
   },
   "outputs": [
    {
     "data": {
      "text/html": [],
      "text/plain": [
       "<IPython.core.display.HTML object>"
      ]
     },
     "metadata": {},
     "output_type": "display_data"
    },
    {
     "data": {
      "text/plain": [
       "('negative', tensor(0), tensor([0.9922, 0.0078]))"
      ]
     },
     "execution_count": 35,
     "metadata": {},
     "output_type": "execute_result"
    }
   ],
   "source": [
    "learn.predict('''I had this product before, but it got killed when my old DVD player died. I finally got around to ordering a new one since I have all the Star Trek movies but this one. I got it but hadn't tried to play it until this morning. This movie DVD disk is all wrong. It is jump all over the place and has never even played the beginning part of the movie. It is a total waste of my money. I am sure it isn't the DVD player because I put another Star Trek book in and it is playing like it is suppose to. So far it is playing the movie in the correct sequence. I thought I was getting the movie, but it isn't it, just jumps all over the place in no kind of order. Who would want to pay that kind of money for just parts of a movie''')"
   ]
  },
  {
   "cell_type": "code",
   "execution_count": 36,
   "id": "7ce5d0fc",
   "metadata": {
    "ExecuteTime": {
     "end_time": "2023-12-10T13:42:18.935919Z",
     "start_time": "2023-12-10T13:42:18.880594Z"
    }
   },
   "outputs": [
    {
     "data": {
      "text/html": [],
      "text/plain": [
       "<IPython.core.display.HTML object>"
      ]
     },
     "metadata": {},
     "output_type": "display_data"
    },
    {
     "data": {
      "text/plain": [
       "('positive', tensor(1), tensor([0.1167, 0.8833]))"
      ]
     },
     "execution_count": 36,
     "metadata": {},
     "output_type": "execute_result"
    }
   ],
   "source": [
    "learn.predict('''It's interesting the reviews for this are either all raves (mostly from younger fans, although a few fans of the original series recognize its quality) or rants (mostly from people who felt there was no need to \"remake\" or \"reboot\" the original) and yet the truth of the matter is somewhere in between.\n",
    "\n",
    "Make no mistake about it -- this is an extremely competent, well-made action film that will keep you entertained as long as action films are your thing. The acting is first rate, and there are enough tributes to the original series and stars that it doesn't feel like they've forgotten their roots.\n",
    "\n",
    "Indeed, my only problem with this film is that it takes about an hour before it gets past the cliches -- let's see, we have the boy who lost his father growing up into a rebel without a cause, who is damned if he will join the establishment, is hell bent on drinking and bedding any women of any color (including green) that comes along, and who only by chance decides to join the military to make a man out of himself. And even there he cheats and rankles at authority until the end, when his rebelliousness actually saves the day. Oh, yes, and we also have two men who fight each other tooth and nail until they suddenly realize they are going to be the best of friends. Never saw that one coming. Sigh.\n",
    "\n",
    "The early going by-the-numbers script was so predictable that we could have skipped it completely were it not for the excellent performances of such minor stars as Karl Urban (as Bones) who completely steals the show from both Kirk and Spock in the early going, and Simon Pegg (Scotty) who steals the show in the latter half. It is the supporting cast that makes this fun to watch until the inevitable coming together of Kirk and Spock to form the greatest team in all of science fiction this side of Batman and Superman.\n",
    "\n",
    "Oh, I'll buy the blu-ray when it comes out, and have fun rewatching it, but the REAL fun will come in about two years, when the obligatory sequel will be released and our cast and crew, newly minted, yet much as we have always known them, takes to the stars for what is sure to be a lot more excitement and action. Until then, this will do.\n",
    "''')"
   ]
  },
  {
   "cell_type": "code",
   "execution_count": 37,
   "id": "4613b9a6",
   "metadata": {
    "ExecuteTime": {
     "end_time": "2023-12-10T13:42:20.473296Z",
     "start_time": "2023-12-10T13:42:20.448372Z"
    }
   },
   "outputs": [
    {
     "data": {
      "text/html": [],
      "text/plain": [
       "<IPython.core.display.HTML object>"
      ]
     },
     "metadata": {},
     "output_type": "display_data"
    },
    {
     "data": {
      "text/plain": [
       "('negative', tensor(0), tensor([0.6697, 0.3303]))"
      ]
     },
     "execution_count": 37,
     "metadata": {},
     "output_type": "execute_result"
    }
   ],
   "source": [
    "learn.predict('''Like most remakes, this one falls short of the original. The cast does make an admirable attempt in fulfilling the roles they are cast, but these are huge shoes to fill. It may be more appealing to those younger that haven't seen the original series, but if you've grown up with William Shatner, Leonard Nimoy, DeForest Kelly, James Doohan, Nichelle Nichols, George Takei, and Walter Koenig, it's hard to get used to a new group. However, for a younger audience, it may be very successful.''')"
   ]
  },
  {
   "cell_type": "code",
   "execution_count": null,
   "id": "2199e5a2",
   "metadata": {},
   "outputs": [],
   "source": []
  }
 ],
 "metadata": {
  "kernelspec": {
   "display_name": "Python 3",
   "language": "python",
   "name": "python3"
  },
  "language_info": {
   "codemirror_mode": {
    "name": "ipython",
    "version": 3
   },
   "file_extension": ".py",
   "mimetype": "text/x-python",
   "name": "python",
   "nbconvert_exporter": "python",
   "pygments_lexer": "ipython3",
   "version": "3.8.10"
  },
  "toc": {
   "base_numbering": 1,
   "nav_menu": {},
   "number_sections": false,
   "sideBar": true,
   "skip_h1_title": false,
   "title_cell": "Table of Contents",
   "title_sidebar": "Contents",
   "toc_cell": false,
   "toc_position": {},
   "toc_section_display": true,
   "toc_window_display": false
  }
 },
 "nbformat": 4,
 "nbformat_minor": 5
}
