{
 "cells": [
  {
   "cell_type": "code",
   "execution_count": null,
   "metadata": {},
   "outputs": [],
   "source": [
    "!pip install tensorflow\n",
    "!pip install numpy\n",
    "!pip install matplotlib"
   ]
  },
  {
   "cell_type": "code",
   "execution_count": null,
   "metadata": {},
   "outputs": [],
   "source": [
    "# Import necessary libraries\n",
    "import numpy as np\n",
    "from tensorflow.keras.models import Sequential\n",
    "from tensorflow.keras.layers import Dense\n",
    "from tensorflow.keras.optimizers import Adam\n",
    "import matplotlib.pyplot as plt\n",
    "\n",
    "# Generate some random data for training\n",
    "# Here we create 1000 points around a line y = 3x + 2 with some normal noise\n",
    "np.random.seed(0)\n",
    "X = np.linspace(-1, 1, 1000)\n",
    "np.random.shuffle(X)\n",
    "Y = 3 * X + np.random.randn(*X.shape) * 0.5\n",
    "\n",
    "# Split the data into training and testing\n",
    "train_X, test_X = X[:800], X[800:]\n",
    "train_Y, test_Y = Y[:800], Y[800:]\n",
    "\n",
    "# Visualize the data\n",
    "plt.scatter(train_X, train_Y)\n",
    "plt.title('Training Data')\n",
    "plt.show()\n",
    "\n",
    "# Create a simple sequential neural network\n",
    "model = Sequential()\n",
    "model.add(Dense(64, activation='relu', input_dim=1))\n",
    "model.add(Dense(1, activation='linear'))\n",
    "\n",
    "# Compile the model with an optimizer and loss function for regression\n",
    "model.compile(optimizer=Adam(lr=0.01), loss='mse')\n",
    "\n",
    "# Train the model\n",
    "history = model.fit(train_X, train_Y, epochs=50, validation_split=0.2, verbose=1)\n",
    "\n",
    "# Plot training history\n",
    "plt.plot(history.history['loss'], label='loss')\n",
    "plt.plot(history.history['val_loss'], label='val_loss')\n",
    "plt.legend()\n",
    "plt.title('Training History')\n",
    "plt.xlabel('Epoch')\n",
    "plt.ylabel('Loss')\n",
    "plt.show()\n",
    "\n",
    "# Evaluate the model on test data\n",
    "loss = model.evaluate(test_X, test_Y, verbose=1)\n",
    "print(f\"Test loss: {loss}\")\n",
    "\n",
    "# Use the model to predict on new data\n",
    "predicted_Y = model.predict(test_X)\n",
    "\n",
    "# Plot the predictions against the actual values\n",
    "plt.scatter(test_X, test_Y, label='Actual')\n",
    "plt.scatter(test_X, predicted_Y, label='Predicted', color='r')\n",
    "plt.title('Predictions vs Actual')\n",
    "plt.legend()\n",
    "plt.show()\n"
   ]
  }
 ],
 "metadata": {
  "kernelspec": {
   "display_name": "Python 3",
   "language": "python",
   "name": "python3"
  },
  "language_info": {
   "codemirror_mode": {
    "name": "ipython",
    "version": 3
   },
   "file_extension": ".py",
   "mimetype": "text/x-python",
   "name": "python",
   "nbconvert_exporter": "python",
   "pygments_lexer": "ipython3",
   "version": "3.9.6"
  }
 },
 "nbformat": 4,
 "nbformat_minor": 2
}
