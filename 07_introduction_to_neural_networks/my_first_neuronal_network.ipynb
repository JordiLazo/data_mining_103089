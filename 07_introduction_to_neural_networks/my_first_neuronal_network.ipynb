{
 "cells": [
  {
   "cell_type": "code",
   "execution_count": 4,
   "metadata": {},
   "outputs": [],
   "source": [
    "import numpy as np\n",
    "\n",
    "class Percepton:\n",
    "    def __init__(self,num_parameters,epochs,learning_rate):\n",
    "        self.LR = learning_rate\n",
    "        self.epochs = epochs\n",
    "        self.weights = np.zeros(num_parameters)\n",
    "        self.bias = 0\n",
    "    \n",
    "    def forward(self,input):\n",
    "        output = np.dot(input,self.weights) + self.bias\n",
    "        return np.where(output > 0,1,0)\n",
    "    \n",
    "    def backward(self,error,input):\n",
    "        self.weights += error * np.array(input) * self.LR\n",
    "        self.bias += error * self.LR\n",
    "\n",
    "    def train(self,inputs):\n",
    "        for i in range(self.epochs):\n",
    "            for (input,label) in inputs:\n",
    "                result = self.forward(input)\n",
    "                self.backward(label-result,input)\n",
    "\n",
    "    def test(self,inputs):\n",
    "        for (input,label) in inputs:\n",
    "            result = self.forward(input)\n",
    "            print(f'Input: {input} Output: {result}, Expected: {label}')\n",
    "\n"
   ]
  },
  {
   "cell_type": "code",
   "execution_count": 5,
   "metadata": {},
   "outputs": [],
   "source": [
    "n = Percepton(num_parameters=2,epochs=100,learning_rate=0.01)"
   ]
  },
  {
   "cell_type": "code",
   "execution_count": 6,
   "metadata": {},
   "outputs": [],
   "source": [
    "train=[([0,0],0),([0,1],0),([1,0],0),([1,1],1)]"
   ]
  },
  {
   "cell_type": "code",
   "execution_count": 7,
   "metadata": {},
   "outputs": [],
   "source": [
    "test = [ ([1,0],0), ([1,1],1)]"
   ]
  },
  {
   "cell_type": "code",
   "execution_count": 8,
   "metadata": {},
   "outputs": [
    {
     "name": "stdout",
     "output_type": "stream",
     "text": [
      "Input: [1, 0] Output: 0, Expected: 0\n",
      "Input: [1, 1] Output: 1, Expected: 1\n"
     ]
    }
   ],
   "source": [
    "n.train(train)\n",
    "n.test(test)"
   ]
  }
 ],
 "metadata": {
  "kernelspec": {
   "display_name": "Python 3",
   "language": "python",
   "name": "python3"
  },
  "language_info": {
   "codemirror_mode": {
    "name": "ipython",
    "version": 3
   },
   "file_extension": ".py",
   "mimetype": "text/x-python",
   "name": "python",
   "nbconvert_exporter": "python",
   "pygments_lexer": "ipython3",
   "version": "3.9.6"
  }
 },
 "nbformat": 4,
 "nbformat_minor": 2
}
